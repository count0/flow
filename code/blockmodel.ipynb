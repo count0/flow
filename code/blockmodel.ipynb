{
 "cells": [
  {
   "cell_type": "markdown",
   "metadata": {},
   "source": [
    "# Stochastic Blockmodeling of Layered Graphs\n",
    "**Data**: Time-stamped movements of about 200 users in eastern Germany as measured through GPS, collapsed into 50 or 100 network nodes.\n",
    "\n",
    "**Analysis**: Detection of mobility patternsusing stochastic blockmodeling using <font face='Courier'>graph-tool</font>.\n",
    "## Dependencies"
   ]
  },
  {
   "cell_type": "code",
   "execution_count": 2,
   "metadata": {},
   "outputs": [],
   "source": [
    "import numpy as np\n",
    "import pandas as pd\n",
    "import pickle\n",
    "from graph_tool.all import *"
   ]
  },
  {
   "cell_type": "markdown",
   "metadata": {},
   "source": [
    "## Data Preparation\n",
    "Load edgelist for network with either 50 or 100 nodes. Each directed link corresponds to a user's movement from one point in the region (network node) to another:"
   ]
  },
  {
   "cell_type": "code",
   "execution_count": 3,
   "metadata": {},
   "outputs": [],
   "source": [
    "edgelist = pd.read_csv('../data/edgelist_chemnitz_dec4_distTrue_cluAgglomerative50.txt', sep='\\t')\n",
    "#edgelist = pd.read_csv('../data/edgelist_chemnitz_dec4_distTrue_cluAgglomerative100.txt', sep='\\t')"
   ]
  },
  {
   "cell_type": "markdown",
   "metadata": {},
   "source": [
    "Get the hour of the week for the beginning of each movement. Monday 0am is hour 0, Sunday 11pm is hour 167:"
   ]
  },
  {
   "cell_type": "code",
   "execution_count": 4,
   "metadata": {},
   "outputs": [],
   "source": [
    "edgelist['time_begin'] = pd.to_datetime(edgelist['time_begin'])\n",
    "edgelist['time_end'] = pd.to_datetime(edgelist['time_end'])"
   ]
  },
  {
   "cell_type": "code",
   "execution_count": 5,
   "metadata": {},
   "outputs": [],
   "source": [
    "edgelist['hourofweek'] = edgelist['time_begin'].dt.dayofweek*24+edgelist['time_begin'].dt.hour"
   ]
  },
  {
   "cell_type": "code",
   "execution_count": 6,
   "metadata": {},
   "outputs": [
    {
     "data": {
      "text/html": [
       "<div>\n",
       "<style scoped>\n",
       "    .dataframe tbody tr th:only-of-type {\n",
       "        vertical-align: middle;\n",
       "    }\n",
       "\n",
       "    .dataframe tbody tr th {\n",
       "        vertical-align: top;\n",
       "    }\n",
       "\n",
       "    .dataframe thead th {\n",
       "        text-align: right;\n",
       "    }\n",
       "</style>\n",
       "<table border=\"1\" class=\"dataframe\">\n",
       "  <thead>\n",
       "    <tr style=\"text-align: right;\">\n",
       "      <th></th>\n",
       "      <th>time_begin</th>\n",
       "      <th>time_end</th>\n",
       "      <th>cluster_id_begin</th>\n",
       "      <th>cluster_id_end</th>\n",
       "      <th>type</th>\n",
       "      <th>speed</th>\n",
       "      <th>hourofweek</th>\n",
       "    </tr>\n",
       "  </thead>\n",
       "  <tbody>\n",
       "    <tr>\n",
       "      <th>0</th>\n",
       "      <td>2015-11-04 10:12:28</td>\n",
       "      <td>2015-11-04 11:06:35</td>\n",
       "      <td>0</td>\n",
       "      <td>0</td>\n",
       "      <td>foot</td>\n",
       "      <td>0.64</td>\n",
       "      <td>58</td>\n",
       "    </tr>\n",
       "    <tr>\n",
       "      <th>1</th>\n",
       "      <td>2015-11-04 11:06:35</td>\n",
       "      <td>2015-11-04 11:06:43</td>\n",
       "      <td>0</td>\n",
       "      <td>0</td>\n",
       "      <td>car</td>\n",
       "      <td>785.12</td>\n",
       "      <td>59</td>\n",
       "    </tr>\n",
       "    <tr>\n",
       "      <th>2</th>\n",
       "      <td>2015-11-04 12:56:46</td>\n",
       "      <td>2015-11-04 12:57:59</td>\n",
       "      <td>0</td>\n",
       "      <td>0</td>\n",
       "      <td>foot</td>\n",
       "      <td>2.59</td>\n",
       "      <td>60</td>\n",
       "    </tr>\n",
       "    <tr>\n",
       "      <th>3</th>\n",
       "      <td>2015-11-04 12:57:59</td>\n",
       "      <td>2015-11-04 13:11:34</td>\n",
       "      <td>0</td>\n",
       "      <td>0</td>\n",
       "      <td>foot</td>\n",
       "      <td>1.95</td>\n",
       "      <td>60</td>\n",
       "    </tr>\n",
       "    <tr>\n",
       "      <th>4</th>\n",
       "      <td>2015-11-04 13:11:34</td>\n",
       "      <td>2015-11-04 13:14:24</td>\n",
       "      <td>0</td>\n",
       "      <td>0</td>\n",
       "      <td>car</td>\n",
       "      <td>22.64</td>\n",
       "      <td>61</td>\n",
       "    </tr>\n",
       "  </tbody>\n",
       "</table>\n",
       "</div>"
      ],
      "text/plain": [
       "           time_begin            time_end  cluster_id_begin  cluster_id_end  \\\n",
       "0 2015-11-04 10:12:28 2015-11-04 11:06:35                 0               0   \n",
       "1 2015-11-04 11:06:35 2015-11-04 11:06:43                 0               0   \n",
       "2 2015-11-04 12:56:46 2015-11-04 12:57:59                 0               0   \n",
       "3 2015-11-04 12:57:59 2015-11-04 13:11:34                 0               0   \n",
       "4 2015-11-04 13:11:34 2015-11-04 13:14:24                 0               0   \n",
       "\n",
       "   type   speed  hourofweek  \n",
       "0  foot    0.64          58  \n",
       "1   car  785.12          59  \n",
       "2  foot    2.59          60  \n",
       "3  foot    1.95          60  \n",
       "4   car   22.64          61  "
      ]
     },
     "execution_count": 6,
     "metadata": {},
     "output_type": "execute_result"
    }
   ],
   "source": [
    "edgelist.head()"
   ]
  },
  {
   "cell_type": "markdown",
   "metadata": {},
   "source": [
    "Sample edgelist to speed up computation:"
   ]
  },
  {
   "cell_type": "code",
   "execution_count": 7,
   "metadata": {},
   "outputs": [
    {
     "name": "stderr",
     "output_type": "stream",
     "text": [
      "/srv/conda/lib/python3.6/site-packages/ipykernel_launcher.py:2: DeprecationWarning: \n",
      ".ix is deprecated. Please use\n",
      ".loc for label based indexing or\n",
      ".iloc for positional indexing\n",
      "\n",
      "See the documentation here:\n",
      "http://pandas.pydata.org/pandas-docs/stable/indexing.html#ix-indexer-is-deprecated\n",
      "  \n"
     ]
    }
   ],
   "source": [
    "sample = 100\n",
    "edgelist = edgelist.ix[np.random.choice(edgelist.index.values, sample)]"
   ]
  },
  {
   "cell_type": "markdown",
   "metadata": {},
   "source": [
    "Subset edgelist to work with:"
   ]
  },
  {
   "cell_type": "code",
   "execution_count": 8,
   "metadata": {},
   "outputs": [],
   "source": [
    "edgelist_hourofweek = edgelist[['cluster_id_begin', 'cluster_id_end', 'hourofweek']]"
   ]
  },
  {
   "cell_type": "code",
   "execution_count": 9,
   "metadata": {},
   "outputs": [
    {
     "data": {
      "text/html": [
       "<div>\n",
       "<style scoped>\n",
       "    .dataframe tbody tr th:only-of-type {\n",
       "        vertical-align: middle;\n",
       "    }\n",
       "\n",
       "    .dataframe tbody tr th {\n",
       "        vertical-align: top;\n",
       "    }\n",
       "\n",
       "    .dataframe thead th {\n",
       "        text-align: right;\n",
       "    }\n",
       "</style>\n",
       "<table border=\"1\" class=\"dataframe\">\n",
       "  <thead>\n",
       "    <tr style=\"text-align: right;\">\n",
       "      <th></th>\n",
       "      <th>cluster_id_begin</th>\n",
       "      <th>cluster_id_end</th>\n",
       "      <th>hourofweek</th>\n",
       "    </tr>\n",
       "  </thead>\n",
       "  <tbody>\n",
       "    <tr>\n",
       "      <th>18288</th>\n",
       "      <td>11</td>\n",
       "      <td>11</td>\n",
       "      <td>109</td>\n",
       "    </tr>\n",
       "    <tr>\n",
       "      <th>10109</th>\n",
       "      <td>0</td>\n",
       "      <td>6</td>\n",
       "      <td>105</td>\n",
       "    </tr>\n",
       "    <tr>\n",
       "      <th>19436</th>\n",
       "      <td>17</td>\n",
       "      <td>16</td>\n",
       "      <td>32</td>\n",
       "    </tr>\n",
       "    <tr>\n",
       "      <th>23635</th>\n",
       "      <td>35</td>\n",
       "      <td>35</td>\n",
       "      <td>113</td>\n",
       "    </tr>\n",
       "    <tr>\n",
       "      <th>10293</th>\n",
       "      <td>0</td>\n",
       "      <td>6</td>\n",
       "      <td>58</td>\n",
       "    </tr>\n",
       "  </tbody>\n",
       "</table>\n",
       "</div>"
      ],
      "text/plain": [
       "       cluster_id_begin  cluster_id_end  hourofweek\n",
       "18288                11              11         109\n",
       "10109                 0               6         105\n",
       "19436                17              16          32\n",
       "23635                35              35         113\n",
       "10293                 0               6          58"
      ]
     },
     "execution_count": 9,
     "metadata": {},
     "output_type": "execute_result"
    }
   ],
   "source": [
    "edgelist_hourofweek.head()"
   ]
  },
  {
   "cell_type": "markdown",
   "metadata": {},
   "source": [
    "Above table contains multiple entries (same edge at same time). Get weighted edge list:"
   ]
  },
  {
   "cell_type": "code",
   "execution_count": 10,
   "metadata": {},
   "outputs": [],
   "source": [
    "edgelist_hourofweek_weight = edgelist_hourofweek.groupby(['cluster_id_begin', 'cluster_id_end', 'hourofweek']).size().reset_index()\n",
    "edgelist_hourofweek_weight.rename(columns={0:'weight'}, inplace=True)"
   ]
  },
  {
   "cell_type": "code",
   "execution_count": 11,
   "metadata": {},
   "outputs": [
    {
     "data": {
      "text/html": [
       "<div>\n",
       "<style scoped>\n",
       "    .dataframe tbody tr th:only-of-type {\n",
       "        vertical-align: middle;\n",
       "    }\n",
       "\n",
       "    .dataframe tbody tr th {\n",
       "        vertical-align: top;\n",
       "    }\n",
       "\n",
       "    .dataframe thead th {\n",
       "        text-align: right;\n",
       "    }\n",
       "</style>\n",
       "<table border=\"1\" class=\"dataframe\">\n",
       "  <thead>\n",
       "    <tr style=\"text-align: right;\">\n",
       "      <th></th>\n",
       "      <th>cluster_id_begin</th>\n",
       "      <th>cluster_id_end</th>\n",
       "      <th>hourofweek</th>\n",
       "      <th>weight</th>\n",
       "    </tr>\n",
       "  </thead>\n",
       "  <tbody>\n",
       "    <tr>\n",
       "      <th>0</th>\n",
       "      <td>0</td>\n",
       "      <td>0</td>\n",
       "      <td>15</td>\n",
       "      <td>2</td>\n",
       "    </tr>\n",
       "    <tr>\n",
       "      <th>1</th>\n",
       "      <td>0</td>\n",
       "      <td>0</td>\n",
       "      <td>33</td>\n",
       "      <td>1</td>\n",
       "    </tr>\n",
       "    <tr>\n",
       "      <th>2</th>\n",
       "      <td>0</td>\n",
       "      <td>0</td>\n",
       "      <td>37</td>\n",
       "      <td>2</td>\n",
       "    </tr>\n",
       "    <tr>\n",
       "      <th>3</th>\n",
       "      <td>0</td>\n",
       "      <td>0</td>\n",
       "      <td>41</td>\n",
       "      <td>1</td>\n",
       "    </tr>\n",
       "    <tr>\n",
       "      <th>4</th>\n",
       "      <td>0</td>\n",
       "      <td>0</td>\n",
       "      <td>53</td>\n",
       "      <td>1</td>\n",
       "    </tr>\n",
       "  </tbody>\n",
       "</table>\n",
       "</div>"
      ],
      "text/plain": [
       "   cluster_id_begin  cluster_id_end  hourofweek  weight\n",
       "0                 0               0          15       2\n",
       "1                 0               0          33       1\n",
       "2                 0               0          37       2\n",
       "3                 0               0          41       1\n",
       "4                 0               0          53       1"
      ]
     },
     "execution_count": 11,
     "metadata": {},
     "output_type": "execute_result"
    }
   ],
   "source": [
    "edgelist_hourofweek_weight.head()"
   ]
  },
  {
   "cell_type": "markdown",
   "metadata": {},
   "source": [
    "Construct multigraph with <font face='Courier'>hourofweek</font> as edge property:"
   ]
  },
  {
   "cell_type": "code",
   "execution_count": 12,
   "metadata": {},
   "outputs": [],
   "source": [
    "g = Graph(directed=True)\n",
    "hourofweek = g.new_edge_property('int')\n",
    "g.add_edge_list(edgelist_hourofweek.values, eprops=[hourofweek])\n",
    "g.edge_properties['hourofweek'] = hourofweek"
   ]
  },
  {
   "cell_type": "code",
   "execution_count": 13,
   "metadata": {},
   "outputs": [
    {
     "name": "stdout",
     "output_type": "stream",
     "text": [
      "<Graph object, directed, with 43 vertices and 100 edges at 0x7f640aac2400>\n"
     ]
    }
   ],
   "source": [
    "print(g)"
   ]
  },
  {
   "cell_type": "code",
   "execution_count": 14,
   "metadata": {},
   "outputs": [
    {
     "name": "stdout",
     "output_type": "stream",
     "text": [
      "hourofweek     (edge)    (type: int32_t)\n"
     ]
    }
   ],
   "source": [
    "g.list_properties()"
   ]
  },
  {
   "cell_type": "markdown",
   "metadata": {},
   "source": [
    "Construct multigraph with <font face='Courier'>hourofweek</font> and <font face='Courier'>weight</font> as edge properties:"
   ]
  },
  {
   "cell_type": "code",
   "execution_count": 15,
   "metadata": {},
   "outputs": [],
   "source": [
    "g_weight = Graph(directed=True)\n",
    "hourofweek = g_weight.new_edge_property('int')\n",
    "weight = g_weight.new_edge_property('int')\n",
    "g_weight.add_edge_list(edgelist_hourofweek_weight.values, eprops=[hourofweek, weight])\n",
    "g_weight.edge_properties['hourofweek'] = hourofweek\n",
    "g_weight.edge_properties['weight'] = weight"
   ]
  },
  {
   "cell_type": "markdown",
   "metadata": {},
   "source": [
    "*Q1: Is the weighted graph constructed correctly?*\n",
    "\n",
    "**A1: Looks fine!**"
   ]
  },
  {
   "cell_type": "code",
   "execution_count": 16,
   "metadata": {},
   "outputs": [
    {
     "name": "stdout",
     "output_type": "stream",
     "text": [
      "<Graph object, directed, with 43 vertices and 91 edges at 0x7f640aac2fd0>\n"
     ]
    }
   ],
   "source": [
    "print(g_weight)"
   ]
  },
  {
   "cell_type": "code",
   "execution_count": 17,
   "metadata": {},
   "outputs": [
    {
     "name": "stdout",
     "output_type": "stream",
     "text": [
      "hourofweek     (edge)    (type: int32_t)\n",
      "weight         (edge)    (type: int32_t)\n"
     ]
    }
   ],
   "source": [
    "g_weight.list_properties()"
   ]
  },
  {
   "cell_type": "markdown",
   "metadata": {},
   "source": [
    "## Data Analysis\n",
    "The goal is to perform an analysis as in fig.8 of \"<a href='https://arxiv.org/abs/1504.02381'>Inferring the mesoscale structure of layered, edge-valued, and time-varying networks\"</a> (Peixoto, 2015). The idea is to use the hour of the week as the time of weighted edges and detect the change points in aggregate mobility.\n",
    "### Are layers informative?\n",
    "To test this, we (a) infer the nested blockmodel for a weighted graph with collapsed edge time, (b) infer the nested blockmodel for a weighted graph with edge time as layers, and (c) compare the posterior odds ratio. Degrees are assumed to be correlated. (***COMMENT: 'deg_corr' means degree correction, not degree correlation.***)\n",
    "#### (a) Nested blockmodel for weighted graph with collapsed edge time"
   ]
  },
  {
   "cell_type": "code",
   "execution_count": 32,
   "metadata": {},
   "outputs": [],
   "source": [
    "state_nested_covariates = minimize_nested_blockmodel_dl(g_weight, layers=True, state_args=dict(ec=g_weight.ep.hourofweek, layers=False, recs=[g_weight.ep.weight], rec_types=['discrete-poisson']), deg_corr=True)\n",
    "#pickle.dump(state_nested_covariates, open('state_nested_covariates.pickle', 'wb'))"
   ]
  },
  {
   "cell_type": "code",
   "execution_count": 33,
   "metadata": {},
   "outputs": [],
   "source": [
    "#state_nested_covariates = pickle.load(open('state_nested_covariates.pickle', 'rb'))"
   ]
  },
  {
   "cell_type": "markdown",
   "metadata": {},
   "source": [
    "*Q1: To use both edge properties (hourofday and weight), can the module be called like that?*\n",
    "\n",
    "**A: Yes it can. This amounts to a layered weighted graph.**"
   ]
  },
  {
   "cell_type": "markdown",
   "metadata": {},
   "source": [
    "*Q2: Is the covariate type correct ('discrete-poisson')?*\n",
    "\n",
    "**A: It depends. For discrete covariates, there are three possible models: \"discrete-geometric\", \"discrete-binomial\" and \"discrete-poisson\". Which one to use is a model selection question, and depends on data. Generically you should use the one that yields the largest posterior (smallest description length), but usually it is clear which one is best by inspecting the nature of the weights.**\n",
    "\n",
    "**But there is a sublety here: If the weights are just edge multiplicities of a multigraph, you should probably not pass them as covariates, since the underlying SBM already models multigraphs. Instead, you should use the 'eweight' parameter, as such:**"
   ]
  },
  {
   "cell_type": "code",
   "execution_count": 34,
   "metadata": {},
   "outputs": [],
   "source": [
    "state_nested_covariates = minimize_nested_blockmodel_dl(g_weight, layers=True, state_args=dict(ec=g_weight.ep.hourofweek, layers=False, eweight=g_weight.ep.weight), deg_corr=True)"
   ]
  },
  {
   "cell_type": "markdown",
   "metadata": {},
   "source": [
    "***However, it is important to make users aware that the 'eweight' parameter is only meant for edge multiplicities. Passing to it arbitrary \"weights\", i.e. real values or negative values, is incorrect. For this kind of arbitrary covariate, ther 'recs' parameter should be used instead.***\n",
    "\n",
    "\n",
    "*Q3: I'm confused about the two layers parameters. Is it that the first one specifies that observed data has edge weights and the second (state_arg) specifies if that information is collapsed?\n",
    "A: \"Note the different meanings of the two 'layers' parameters below: The first enables the use of LayeredBlockState, and the second selects the 'edge layers' version (instead of 'edge covariates').\" (https://graph-tool.skewed.de/static/doc/demos/inference/inference.html#layered-networks)*\n",
    "\n",
    "**This is indeed prone to confusion. The first 'layers=True' simply activates the use of layered SBM, whereas the second one selects the ***kind*** of layered SBM: 'layers=False' means that the collapsed network is generated first, and then the edges are distributed, whereas 'layers=True' means that the layers are generated independently.***"
   ]
  },
  {
   "cell_type": "markdown",
   "metadata": {},
   "source": [
    "#### (b) Nested blockmodel for weighted graph with edge time as layers\n"
   ]
  },
  {
   "cell_type": "code",
   "execution_count": 35,
   "metadata": {},
   "outputs": [],
   "source": [
    "state_nested_layers = minimize_nested_blockmodel_dl(g_weight, layers=True, state_args=dict(ec=g_weight.ep.hourofweek, layers=True, eweight=g_weight.ep.weight), deg_corr=True)\n",
    "#pickle.dump(state_nested_layers, open('state_nested_layers.pickle', 'wb'))"
   ]
  },
  {
   "cell_type": "code",
   "execution_count": 36,
   "metadata": {},
   "outputs": [],
   "source": [
    "#state_nested_layers = pickle.load(open('state_nested_layers.pickle', 'rb'))"
   ]
  },
  {
   "cell_type": "markdown",
   "metadata": {},
   "source": [
    "#### (c) Model selection"
   ]
  },
  {
   "cell_type": "code",
   "execution_count": 37,
   "metadata": {},
   "outputs": [
    {
     "data": {
      "text/plain": [
       "-1561.7338865161232"
      ]
     },
     "execution_count": 37,
     "metadata": {},
     "output_type": "execute_result"
    }
   ],
   "source": [
    "state_nested_covariates.entropy()-state_nested_layers.entropy()"
   ]
  },
  {
   "cell_type": "markdown",
   "metadata": {},
   "source": [
    "*Q4: So layers are not informative because the difference is negative?*\n",
    "\n",
    "***The 'entropy()' method returs the description length of the fit, i.e. the negative log-probability. Thus, the model with the smallest value should be selected. A negative difference, like in the above, means that the first model should be selected (state_nested_covariates).***\n",
    "\n",
    "***Note, however, that both models explain the layers, they only do so differently. So this comparison cannot be used to tell if the layers are informative or not. Instead, one would need to compare with a model that discards this information altogether, and just distributes the layers randomly:***"
   ]
  },
  {
   "cell_type": "code",
   "execution_count": 38,
   "metadata": {},
   "outputs": [],
   "source": [
    "state_nested = minimize_nested_blockmodel_dl(g_weight, state_args=dict(eweight=g_weight.ep.weight), deg_corr=True)\n",
    "#pickle.dump(state_nested_layers, open('state_nested_layers.pickle', 'wb'))"
   ]
  },
  {
   "cell_type": "markdown",
   "metadata": {},
   "source": [
    "***We cannot directly compare state_nested with state_nested_covariates, since the former does not explain the layers. We must add to it the probability that the layer configuration is obtained randomly (Eq. A2 in the 2015 paper):***"
   ]
  },
  {
   "cell_type": "code",
   "execution_count": 52,
   "metadata": {},
   "outputs": [
    {
     "name": "stdout",
     "output_type": "stream",
     "text": [
      "83.5376006182052\n"
     ]
    }
   ],
   "source": [
    "from scipy.special import gammaln\n",
    "from numpy import bincount\n",
    "\n",
    "ret = condensation_graph(g_weight, g_weight.vertex_index, eweight=g_weight.ep.weight)\n",
    "ecount = ret[3]\n",
    "\n",
    "S_null = state_nested.entropy() + gammaln(g_weight.ep.weight.fa.sum() + 1) - gammaln(bincount(g_weight.ep.hourofweek.fa, weights=g_weight.ep.weight.fa) + 1).sum() + gammaln(g_weight.ep.weight.fa + 1).sum() - gammaln(ecount.fa + 1).sum()\n",
    "\n",
    "print(S_null-state_nested_covariates.entropy())"
   ]
  },
  {
   "cell_type": "markdown",
   "metadata": {},
   "source": [
    "***Because the difference is positive, we can conclude that the layers ARE, in fact, informative.***"
   ]
  },
  {
   "cell_type": "markdown",
   "metadata": {},
   "source": [
    "### Change Point Extraction"
   ]
  },
  {
   "cell_type": "markdown",
   "metadata": {},
   "source": [
    "*Q6: How can I extract the bin / change point information from state_nested_layers?*\n",
    "\n",
    "***A: It's not there. This analsys is not automatized in graph-tool. You have to create the bins yourself and check the posterior likelihood, using Eq. A3 in the 2015 paper.***"
   ]
  },
  {
   "cell_type": "code",
   "execution_count": null,
   "metadata": {},
   "outputs": [],
   "source": []
  },
  {
   "cell_type": "markdown",
   "metadata": {},
   "source": [
    "### Overlapping Blocks"
   ]
  },
  {
   "cell_type": "markdown",
   "metadata": {},
   "source": [
    "*Q6: Having read Peixoto (2015), It's still not clear to me what the overlap option does or how it's called. For what purpose and how could it be integrated in this analysis?*\n",
    "\n",
    "***A: The 'overlap' option toggles the use of the overlapping SBM, where nodes are allowed to belong to more than one group. This is also equivalent to a clustering of the 'half-edges' (i.e. edge endpoints). This would yield a different family of layered models, that could --- potentially --- uncover different kinds of layered structures. You can find more information about this here: https://dx.doi.org/10.1103/PhysRevX.5.011033***"
   ]
  },
  {
   "cell_type": "code",
   "execution_count": null,
   "metadata": {},
   "outputs": [],
   "source": []
  }
 ],
 "metadata": {
  "kernelspec": {
   "display_name": "Python 3",
   "language": "python",
   "name": "python3"
  },
  "language_info": {
   "codemirror_mode": {
    "name": "ipython",
    "version": 3
   },
   "file_extension": ".py",
   "mimetype": "text/x-python",
   "name": "python",
   "nbconvert_exporter": "python",
   "pygments_lexer": "ipython3",
   "version": "3.6.6"
  }
 },
 "nbformat": 4,
 "nbformat_minor": 2
}
