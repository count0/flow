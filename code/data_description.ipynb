{
 "cells": [
  {
   "cell_type": "markdown",
   "metadata": {},
   "source": [
    "# FLOW: Data Description and Transformation (Chemnitz)\n",
    "## Imports and Settings"
   ]
  },
  {
   "cell_type": "code",
   "execution_count": 1,
   "metadata": {
    "collapsed": true
   },
   "outputs": [],
   "source": [
    "%matplotlib inline"
   ]
  },
  {
   "cell_type": "code",
   "execution_count": 2,
   "metadata": {
    "collapsed": true
   },
   "outputs": [],
   "source": [
    "import warnings\n",
    "import pandas as pd\n",
    "import matplotlib.pyplot as plt\n",
    "import collections\n",
    "import numpy as np\n",
    "import datetime\n",
    "import matplotlib.dates as mdates\n",
    "from matplotlib.ticker import MaxNLocator"
   ]
  },
  {
   "cell_type": "code",
   "execution_count": 3,
   "metadata": {
    "collapsed": true
   },
   "outputs": [],
   "source": [
    "warnings.filterwarnings('ignore')"
   ]
  },
  {
   "cell_type": "code",
   "execution_count": 4,
   "metadata": {
    "collapsed": true
   },
   "outputs": [],
   "source": [
    "color_full = ['#000000', '#e41a1c', '#377eb8', '#4daf4a', '#984ea3', '#ff7f00', '#ffff33', '#a65628', '#f781bf', '#999999']\n",
    "color_pale = ['#7f7f7f', '#f18c8d', '#9bbedb', '#a6d7a4', '#cba6d1', '#ffbf7f', '#ffff99', '#d2aa93', '#fbc0df', '#cccccc']"
   ]
  },
  {
   "cell_type": "markdown",
   "metadata": {},
   "source": [
    "## Helper Functions\n",
    "Get probability density function (PDF) given list:"
   ]
  },
  {
   "cell_type": "code",
   "execution_count": 5,
   "metadata": {
    "collapsed": true
   },
   "outputs": [],
   "source": [
    "def pdf(l):\n",
    "    counter = collections.Counter(l)\n",
    "    a = np.column_stack((list(counter.keys()), list(counter.values())))\n",
    "    a = np.column_stack((a, a[:, 1]/sum(a[:, 1])))\n",
    "    a = a[a[: ,0].argsort()]\n",
    "    return a"
   ]
  },
  {
   "cell_type": "markdown",
   "metadata": {},
   "source": [
    "Get binned probability density function given unbinned probability densities:"
   ]
  },
  {
   "cell_type": "code",
   "execution_count": 6,
   "metadata": {
    "collapsed": true
   },
   "outputs": [],
   "source": [
    "def pdf_bin(a, bins):\n",
    "    decades = np.ceil(np.log10(max(a[:, 0])-min(a[:, 0])))\n",
    "    bin_min = np.log10(min(a[:, 0]))\n",
    "    a_bin = np.full((bins, 3), np.nan)\n",
    "    for i in range(0, bins):\n",
    "        b = a[(a[:, 0] >= round(10**(bin_min+i*decades/bins))) & (a[:, 0] < round(10**(bin_min+(i+1)*decades/bins)))]\n",
    "        if len(b)>0:\n",
    "            a_bin[i, 0] = np.mean(b[:, 0])\n",
    "            a_bin[i, 1] = sum(b[:, 1])\n",
    "            a_bin[i, 2] = round(10**(bin_min+(i+1)*decades/bins))-round(10**(bin_min+i*decades/bins))\n",
    "    a_bin = a_bin[~np.isnan(a_bin[:, 0])]\n",
    "    a_bin = np.column_stack((a_bin, (a_bin[:, 1]/sum(a[:, 1]))/a_bin[:, 2])) # divide by bin width\n",
    "    return a_bin"
   ]
  },
  {
   "cell_type": "markdown",
   "metadata": {},
   "source": [
    "Plot distribution:"
   ]
  },
  {
   "cell_type": "code",
   "execution_count": 7,
   "metadata": {
    "collapsed": true
   },
   "outputs": [],
   "source": [
    "def plot_distribution(l, xlabel, ylabel, title, type, binning=True, scaling=True):\n",
    "    a = pdf(l)\n",
    "    a_bin = pdf_bin(a, bins=20)\n",
    "    fig = plt.figure(figsize=(6, 6))\n",
    "    ax = fig.add_subplot(111)\n",
    "    if type == 'hist':\n",
    "        if binning == False:\n",
    "            ax.plot(a[:, 0], a[:, 1], marker='o', markersize=12, ls='', color=color_full[0], label='')\n",
    "        else:\n",
    "            ax.plot(a_bin[:, 0], a_bin[:, 1], marker='o', markersize=12, color=color_full[0], ls='', label='')\n",
    "    if type == 'prob':\n",
    "        if binning == False:\n",
    "            ax.plot(a[:, 0], a[:, 2], marker='o', markersize=12, ls='', color=color_full[0], label='')\n",
    "        else:\n",
    "            ax.plot(a_bin[:, 0], a_bin[:, 3], marker='o', markersize=12, color=color_full[0], ls='', label='')\n",
    "    ax.xaxis.set_ticks_position('both')\n",
    "    ax.yaxis.set_ticks_position('both')\n",
    "    if scaling == True:\n",
    "        ax.set_xscale('log')\n",
    "    ax.set_yscale('log')\n",
    "    ax.set_title(title, fontsize=24)\n",
    "    ax.set_xlabel(xlabel, fontsize=24)\n",
    "    ax.set_ylabel(ylabel, fontsize=24)\n",
    "    ax.tick_params(axis=\"x\", which='major', direction=\"in\", width=2, size=4*2, labelsize=24, pad=7)\n",
    "    ax.tick_params(axis=\"x\", which='minor', direction=\"in\", width=2, size=2*2, labelsize=24, pad=7)\n",
    "    ax.tick_params(axis=\"y\", which='major', direction=\"in\", width=2, size=4*2, labelsize=24)\n",
    "    ax.tick_params(axis=\"y\", which='minor', direction=\"in\", width=2, size=2*2, labelsize=24)\n",
    "    ax.spines['left'].set_linewidth(2)\n",
    "    ax.spines['right'].set_linewidth(2)\n",
    "    ax.spines['bottom'].set_linewidth(2)\n",
    "    ax.spines['top'].set_linewidth(2)\n",
    "    ax.legend(fontsize=18)\n",
    "    plt.subplots_adjust(left=0.25, right=0.95, bottom=0.15, top=0.85)"
   ]
  },
  {
   "cell_type": "markdown",
   "metadata": {},
   "source": [
    "## Data Model\n",
    "Data generated by users $u$ is modeled as a network with resting points $v$ as nodes and ways $e$ as directed edges. Chains of ways amount to tracks $f$. Tracks originate and terminate at resting points where a user rests for at least 30 minutes (\"große Ruhe\"). Resting points where users rest for less than 30 minutes (\"kleine Ruhe\") connect ways into tracks."
   ]
  },
  {
   "cell_type": "markdown",
   "metadata": {},
   "source": [
    "## Data Description (Ways)\n",
    "### Load Data"
   ]
  },
  {
   "cell_type": "code",
   "execution_count": 8,
   "metadata": {
    "collapsed": true
   },
   "outputs": [],
   "source": [
    "ways = pd.read_csv('../data/ways_summary.csv', delimiter = ';')"
   ]
  },
  {
   "cell_type": "code",
   "execution_count": 9,
   "metadata": {},
   "outputs": [
    {
     "data": {
      "text/html": [
       "<div>\n",
       "<style>\n",
       "    .dataframe thead tr:only-child th {\n",
       "        text-align: right;\n",
       "    }\n",
       "\n",
       "    .dataframe thead th {\n",
       "        text-align: left;\n",
       "    }\n",
       "\n",
       "    .dataframe tbody tr th {\n",
       "        vertical-align: top;\n",
       "    }\n",
       "</style>\n",
       "<table border=\"1\" class=\"dataframe\">\n",
       "  <thead>\n",
       "    <tr style=\"text-align: right;\">\n",
       "      <th></th>\n",
       "      <th>id</th>\n",
       "      <th>track_id</th>\n",
       "      <th>user_id</th>\n",
       "      <th>stat_group</th>\n",
       "      <th>series</th>\n",
       "      <th>time_begin</th>\n",
       "      <th>time_end</th>\n",
       "      <th>type</th>\n",
       "      <th>start_location</th>\n",
       "      <th>end_location</th>\n",
       "      <th>distance</th>\n",
       "      <th>distance_sum</th>\n",
       "      <th>speed</th>\n",
       "      <th>speed_avg</th>\n",
       "      <th>prev_rp</th>\n",
       "      <th>next_rp</th>\n",
       "      <th>path</th>\n",
       "    </tr>\n",
       "  </thead>\n",
       "  <tbody>\n",
       "    <tr>\n",
       "      <th>0</th>\n",
       "      <td>1</td>\n",
       "      <td>3</td>\n",
       "      <td>2</td>\n",
       "      <td>1</td>\n",
       "      <td>1</td>\n",
       "      <td>2015-11-04 10:12:28</td>\n",
       "      <td>2015-11-04 11:06:35</td>\n",
       "      <td>foot</td>\n",
       "      <td>Stadt Mittweida</td>\n",
       "      <td>Stadt Mittweida</td>\n",
       "      <td>572.94</td>\n",
       "      <td>1145.87</td>\n",
       "      <td>0.64</td>\n",
       "      <td>0.64</td>\n",
       "      <td>50296654</td>\n",
       "      <td>50296655</td>\n",
       "      <td>LINESTRING(12.97399 50.986117,12.97399 50.9861...</td>\n",
       "    </tr>\n",
       "    <tr>\n",
       "      <th>1</th>\n",
       "      <td>2</td>\n",
       "      <td>3</td>\n",
       "      <td>2</td>\n",
       "      <td>1</td>\n",
       "      <td>1</td>\n",
       "      <td>2015-11-04 11:06:35</td>\n",
       "      <td>2015-11-04 11:06:43</td>\n",
       "      <td>car</td>\n",
       "      <td>Stadt Mittweida</td>\n",
       "      <td>Stadt Mittweida</td>\n",
       "      <td>218.09</td>\n",
       "      <td>1582.05</td>\n",
       "      <td>785.12</td>\n",
       "      <td>392.88</td>\n",
       "      <td>50296655</td>\n",
       "      <td>50296656</td>\n",
       "      <td>LINESTRING(12.973538 50.987706,12.972125 50.98...</td>\n",
       "    </tr>\n",
       "    <tr>\n",
       "      <th>2</th>\n",
       "      <td>1</td>\n",
       "      <td>15</td>\n",
       "      <td>3</td>\n",
       "      <td>1</td>\n",
       "      <td>1</td>\n",
       "      <td>2015-11-04 12:12:17</td>\n",
       "      <td>2015-11-04 12:16:05</td>\n",
       "      <td>foot</td>\n",
       "      <td>Stadt Mittweida</td>\n",
       "      <td>Stadt Mittweida</td>\n",
       "      <td>358.66</td>\n",
       "      <td>717.31</td>\n",
       "      <td>5.66</td>\n",
       "      <td>5.66</td>\n",
       "      <td>None</td>\n",
       "      <td>50296701</td>\n",
       "      <td>LINESTRING(12.972569 50.986345,12.972569 50.98...</td>\n",
       "    </tr>\n",
       "    <tr>\n",
       "      <th>3</th>\n",
       "      <td>1</td>\n",
       "      <td>20</td>\n",
       "      <td>3</td>\n",
       "      <td>1</td>\n",
       "      <td>1</td>\n",
       "      <td>2015-11-04 12:56:46</td>\n",
       "      <td>2015-11-04 12:57:59</td>\n",
       "      <td>foot</td>\n",
       "      <td>Stadt Mittweida</td>\n",
       "      <td>Stadt Mittweida</td>\n",
       "      <td>52.57</td>\n",
       "      <td>105.14</td>\n",
       "      <td>2.59</td>\n",
       "      <td>2.59</td>\n",
       "      <td>50296701</td>\n",
       "      <td>50296702</td>\n",
       "      <td>LINESTRING(12.970304 50.986862,12.970304 50.98...</td>\n",
       "    </tr>\n",
       "    <tr>\n",
       "      <th>4</th>\n",
       "      <td>2</td>\n",
       "      <td>20</td>\n",
       "      <td>3</td>\n",
       "      <td>1</td>\n",
       "      <td>1</td>\n",
       "      <td>2015-11-04 12:57:59</td>\n",
       "      <td>2015-11-04 13:11:34</td>\n",
       "      <td>foot</td>\n",
       "      <td>Stadt Mittweida</td>\n",
       "      <td>Stadt Mittweida</td>\n",
       "      <td>411.81</td>\n",
       "      <td>928.77</td>\n",
       "      <td>1.95</td>\n",
       "      <td>2.27</td>\n",
       "      <td>50296702</td>\n",
       "      <td>50296703</td>\n",
       "      <td>LINESTRING(12.970304 50.986862,12.970304 50.98...</td>\n",
       "    </tr>\n",
       "  </tbody>\n",
       "</table>\n",
       "</div>"
      ],
      "text/plain": [
       "   id  track_id  user_id  stat_group  series           time_begin  \\\n",
       "0   1         3        2           1       1  2015-11-04 10:12:28   \n",
       "1   2         3        2           1       1  2015-11-04 11:06:35   \n",
       "2   1        15        3           1       1  2015-11-04 12:12:17   \n",
       "3   1        20        3           1       1  2015-11-04 12:56:46   \n",
       "4   2        20        3           1       1  2015-11-04 12:57:59   \n",
       "\n",
       "              time_end  type   start_location     end_location  distance  \\\n",
       "0  2015-11-04 11:06:35  foot  Stadt Mittweida  Stadt Mittweida    572.94   \n",
       "1  2015-11-04 11:06:43   car  Stadt Mittweida  Stadt Mittweida    218.09   \n",
       "2  2015-11-04 12:16:05  foot  Stadt Mittweida  Stadt Mittweida    358.66   \n",
       "3  2015-11-04 12:57:59  foot  Stadt Mittweida  Stadt Mittweida     52.57   \n",
       "4  2015-11-04 13:11:34  foot  Stadt Mittweida  Stadt Mittweida    411.81   \n",
       "\n",
       "   distance_sum   speed  speed_avg   prev_rp   next_rp  \\\n",
       "0       1145.87    0.64       0.64  50296654  50296655   \n",
       "1       1582.05  785.12     392.88  50296655  50296656   \n",
       "2        717.31    5.66       5.66      None  50296701   \n",
       "3        105.14    2.59       2.59  50296701  50296702   \n",
       "4        928.77    1.95       2.27  50296702  50296703   \n",
       "\n",
       "                                                path  \n",
       "0  LINESTRING(12.97399 50.986117,12.97399 50.9861...  \n",
       "1  LINESTRING(12.973538 50.987706,12.972125 50.98...  \n",
       "2  LINESTRING(12.972569 50.986345,12.972569 50.98...  \n",
       "3  LINESTRING(12.970304 50.986862,12.970304 50.98...  \n",
       "4  LINESTRING(12.970304 50.986862,12.970304 50.98...  "
      ]
     },
     "execution_count": 9,
     "metadata": {},
     "output_type": "execute_result"
    }
   ],
   "source": [
    "ways.head()"
   ]
  },
  {
   "cell_type": "markdown",
   "metadata": {},
   "source": [
    "### Start Locations"
   ]
  },
  {
   "cell_type": "code",
   "execution_count": 10,
   "metadata": {},
   "outputs": [
    {
     "data": {
      "text/plain": [
       "start_location\n",
       "Stadt Mittweida    14077\n",
       "Stadt Chemnitz      9341\n",
       "Stadt Leipzig        655\n",
       "Lichtenau            256\n",
       "Stadt Burgstädt      194\n",
       "dtype: int64"
      ]
     },
     "execution_count": 10,
     "metadata": {},
     "output_type": "execute_result"
    }
   ],
   "source": [
    "start_location = ways.groupby('start_location').size().sort_values(ascending=False)\n",
    "start_location.head()"
   ]
  },
  {
   "cell_type": "markdown",
   "metadata": {},
   "source": [
    "### End Locations"
   ]
  },
  {
   "cell_type": "code",
   "execution_count": 11,
   "metadata": {},
   "outputs": [
    {
     "data": {
      "text/plain": [
       "end_location\n",
       "Stadt Mittweida    13754\n",
       "Stadt Chemnitz      9737\n",
       "Stadt Leipzig        592\n",
       "Lichtenau            227\n",
       "Stadt Burgstädt      139\n",
       "dtype: int64"
      ]
     },
     "execution_count": 11,
     "metadata": {},
     "output_type": "execute_result"
    }
   ],
   "source": [
    "end_location = ways.groupby('end_location').size().sort_values(ascending=False)\n",
    "end_location.head()"
   ]
  },
  {
   "cell_type": "markdown",
   "metadata": {},
   "source": [
    "### Modes of Transport"
   ]
  },
  {
   "cell_type": "code",
   "execution_count": 12,
   "metadata": {},
   "outputs": [
    {
     "data": {
      "text/plain": [
       "type\n",
       "car      14225\n",
       "bus       3794\n",
       "foot      3764\n",
       "tram      2475\n",
       "train     1494\n",
       "dtype: int64"
      ]
     },
     "execution_count": 12,
     "metadata": {},
     "output_type": "execute_result"
    }
   ],
   "source": [
    "mode = ways.groupby('type').size().sort_values(ascending=False)\n",
    "mode"
   ]
  },
  {
   "cell_type": "markdown",
   "metadata": {},
   "source": [
    "### Timeseries"
   ]
  },
  {
   "cell_type": "code",
   "execution_count": 13,
   "metadata": {
    "collapsed": true
   },
   "outputs": [],
   "source": [
    "ways['time_begin_day'] = ways['time_begin'].str[:11]\n",
    "time_begin_day = ways.groupby('time_begin_day').size().sort_index()\n",
    "time_begin_day = pd.concat([pd.Series(time_begin_day.index.tolist()), pd.Series(time_begin_day.tolist())], axis=1)\n",
    "time_begin_day.columns = ['time_begin_day', 'frequency']\n",
    "time_begin_day['time_begin_day'] = pd.to_datetime(time_begin_day['time_begin_day'])"
   ]
  },
  {
   "cell_type": "code",
   "execution_count": 14,
   "metadata": {
    "collapsed": true
   },
   "outputs": [],
   "source": [
    "days_delta = (max(time_begin_day['time_begin_day'])-min(time_begin_day['time_begin_day'])).days\n",
    "days_list = [min(time_begin_day['time_begin_day'])+datetime.timedelta(days=x) for x in range(0, days_delta+1)]\n",
    "days_list = pd.DataFrame(days_list, columns=['time_begin_day'])"
   ]
  },
  {
   "cell_type": "code",
   "execution_count": 15,
   "metadata": {
    "collapsed": true
   },
   "outputs": [],
   "source": [
    "days = pd.merge(left=time_begin_day, right=days_list, how='right', on='time_begin_day').sort_values('time_begin_day').reset_index(drop=True)"
   ]
  },
  {
   "cell_type": "code",
   "execution_count": 16,
   "metadata": {},
   "outputs": [
    {
     "data": {
      "image/png": "[encoded data removed]",
      "text/plain": [
       "<matplotlib.figure.Figure at 0xaf99fd0>"
      ]
     },
     "metadata": {},
     "output_type": "display_data"
    }
   ],
   "source": [
    "# https://stackoverflow.com/questions/17452179/not-write-out-all-dates-on-an-axis-matplotlib\n",
    "fig = plt.figure(figsize=(12, 6))\n",
    "plt.gca().xaxis.set_major_formatter(mdates.DateFormatter('%d-%m-%Y'))\n",
    "plt.gca().xaxis.set_major_locator(mdates.DayLocator(interval=70))\n",
    "days_dt = [x.to_pydatetime() for x in list(days['time_begin_day'])]\n",
    "plt.bar(days_dt, days['frequency'], align='center', color=color_full[0])\n",
    "plt.gcf().autofmt_xdate()\n",
    "ax = fig.add_subplot(111)\n",
    "ax.xaxis.set_ticks_position('both')\n",
    "ax.yaxis.set_ticks_position('both')\n",
    "ax.set_title('Ways Per Day', fontsize=24)\n",
    "ax.set_xlabel('Departure Day', fontsize=24)\n",
    "ax.set_ylabel('Number of Ways', fontsize=24)\n",
    "ax.tick_params(axis=\"x\", which='major', direction=\"in\", width=2, size=4*2, labelsize=24, pad=7)\n",
    "ax.tick_params(axis=\"x\", which='minor', direction=\"in\", width=2, size=2*2, labelsize=24, pad=7)\n",
    "ax.tick_params(axis=\"y\", which='major', direction=\"in\", width=2, size=4*2, labelsize=24)\n",
    "ax.tick_params(axis=\"y\", which='minor', direction=\"in\", width=2, size=2*2, labelsize=24)\n",
    "ax.spines['left'].set_linewidth(2)\n",
    "ax.spines['right'].set_linewidth(2)\n",
    "ax.spines['bottom'].set_linewidth(2)\n",
    "ax.spines['top'].set_linewidth(2)\n",
    "ax.legend(fontsize=18)\n",
    "plt.subplots_adjust(left=0.1, right=0.95, bottom=0.35, top=0.85)\n",
    "#plt.savefig('WaysPerDay.pdf')"
   ]
  },
  {
   "cell_type": "markdown",
   "metadata": {},
   "source": [
    "### Hours"
   ]
  },
  {
   "cell_type": "code",
   "execution_count": 17,
   "metadata": {
    "collapsed": true
   },
   "outputs": [],
   "source": [
    "ways['time_begin_hour'] = ways['time_begin'].str[11:13]\n",
    "time_begin_hour = ways.groupby('time_begin_hour').size().sort_index()\n",
    "time_begin_hour = pd.concat([pd.Series(time_begin_hour.index.tolist()), pd.Series(time_begin_hour.tolist())], axis=1)\n",
    "time_begin_hour.columns = ['time_begin_hour', 'frequency']"
   ]
  },
  {
   "cell_type": "code",
   "execution_count": 18,
   "metadata": {},
   "outputs": [
    {
     "data": {
      "image/png": "[encoded data removed]",
      "text/plain": [
       "<matplotlib.figure.Figure at 0x115e2588>"
      ]
     },
     "metadata": {},
     "output_type": "display_data"
    }
   ],
   "source": [
    "# https://stackoverflow.com/questions/17452179/not-write-out-all-dates-on-an-axis-matplotlib\n",
    "fig = plt.figure(figsize=(6, 6))\n",
    "hours = [x for x in range(0, 24)]\n",
    "plt.bar(hours, time_begin_hour['frequency'], align='center', color=color_full[0])\n",
    "ax = fig.add_subplot(111)\n",
    "ax.xaxis.set_ticks_position('both')\n",
    "ax.yaxis.set_ticks_position('both')\n",
    "ax.set_title('Ways Per Hour', fontsize=24)\n",
    "ax.set_xlabel('Departure Hour', fontsize=24)\n",
    "ax.set_ylabel('Number of Ways', fontsize=24)\n",
    "ax.tick_params(axis=\"x\", which='major', direction=\"in\", width=2, size=4*2, labelsize=24, pad=7)\n",
    "ax.tick_params(axis=\"x\", which='minor', direction=\"in\", width=2, size=2*2, labelsize=24, pad=7)\n",
    "ax.tick_params(axis=\"y\", which='major', direction=\"in\", width=2, size=4*2, labelsize=24)\n",
    "ax.tick_params(axis=\"y\", which='minor', direction=\"in\", width=2, size=2*2, labelsize=24)\n",
    "ax.spines['left'].set_linewidth(2)\n",
    "ax.spines['right'].set_linewidth(2)\n",
    "ax.spines['bottom'].set_linewidth(2)\n",
    "ax.spines['top'].set_linewidth(2)\n",
    "ax.legend(fontsize=18)\n",
    "plt.subplots_adjust(left=0.25, right=0.95, bottom=0.15, top=0.85)\n",
    "#plt.savefig('WaysPerHour.pdf')"
   ]
  },
  {
   "cell_type": "markdown",
   "metadata": {},
   "source": [
    "### Number of Ways"
   ]
  },
  {
   "cell_type": "code",
   "execution_count": 19,
   "metadata": {},
   "outputs": [
    {
     "data": {
      "text/plain": [
       "25752"
      ]
     },
     "execution_count": 19,
     "metadata": {},
     "output_type": "execute_result"
    }
   ],
   "source": [
    "e = len(ways)\n",
    "e"
   ]
  },
  {
   "cell_type": "markdown",
   "metadata": {},
   "source": [
    "### Number of Tracks"
   ]
  },
  {
   "cell_type": "code",
   "execution_count": 20,
   "metadata": {},
   "outputs": [
    {
     "data": {
      "text/plain": [
       "14925"
      ]
     },
     "execution_count": 20,
     "metadata": {},
     "output_type": "execute_result"
    }
   ],
   "source": [
    "f = len(set(ways['track_id']))\n",
    "f"
   ]
  },
  {
   "cell_type": "markdown",
   "metadata": {},
   "source": [
    "### Number of Users"
   ]
  },
  {
   "cell_type": "code",
   "execution_count": 21,
   "metadata": {},
   "outputs": [
    {
     "data": {
      "text/plain": [
       "164"
      ]
     },
     "execution_count": 21,
     "metadata": {},
     "output_type": "execute_result"
    }
   ],
   "source": [
    "u = len(set(ways['user_id']))\n",
    "u"
   ]
  },
  {
   "cell_type": "markdown",
   "metadata": {},
   "source": [
    "### Number of Ways Per User"
   ]
  },
  {
   "cell_type": "code",
   "execution_count": 22,
   "metadata": {
    "collapsed": true
   },
   "outputs": [],
   "source": [
    "epu = ways.groupby('user_id').size().tolist()"
   ]
  },
  {
   "cell_type": "code",
   "execution_count": 23,
   "metadata": {},
   "outputs": [
    {
     "data": {
      "image/png": "[encoded data removed]",
      "text/plain": [
       "<matplotlib.figure.Figure at 0x618b080>"
      ]
     },
     "metadata": {},
     "output_type": "display_data"
    }
   ],
   "source": [
    "plot_distribution(l=epu, xlabel='Number of Ways', ylabel='Number of Users', title='Ways Per User', type='hist')\n",
    "#plt.savefig('WaysPerUser.pdf')"
   ]
  },
  {
   "cell_type": "markdown",
   "metadata": {},
   "source": [
    "### Average Number of Ways Per User"
   ]
  },
  {
   "cell_type": "code",
   "execution_count": 24,
   "metadata": {},
   "outputs": [
    {
     "data": {
      "text/plain": [
       "157.0"
      ]
     },
     "execution_count": 24,
     "metadata": {},
     "output_type": "execute_result"
    }
   ],
   "source": [
    "round(e/u, 1)"
   ]
  },
  {
   "cell_type": "markdown",
   "metadata": {},
   "source": [
    "### Number of Tracks Per User"
   ]
  },
  {
   "cell_type": "code",
   "execution_count": 25,
   "metadata": {
    "collapsed": true
   },
   "outputs": [],
   "source": [
    "ways_ways = ways[['track_id', 'user_id']].drop_duplicates()"
   ]
  },
  {
   "cell_type": "code",
   "execution_count": 26,
   "metadata": {
    "collapsed": true
   },
   "outputs": [],
   "source": [
    "fpu = ways_ways.groupby('user_id').size().tolist()"
   ]
  },
  {
   "cell_type": "code",
   "execution_count": 27,
   "metadata": {},
   "outputs": [
    {
     "data": {
      "image/png": "[encoded data removed]",
      "text/plain": [
       "<matplotlib.figure.Figure at 0xb986518>"
      ]
     },
     "metadata": {},
     "output_type": "display_data"
    }
   ],
   "source": [
    "plot_distribution(l=fpu, xlabel='Number of Tracks', ylabel='Number of Users', title='Tracks Per User', type='hist')\n",
    "#plt.savefig('TracksPerUser.pdf')"
   ]
  },
  {
   "cell_type": "markdown",
   "metadata": {},
   "source": [
    "### Average Number of Tracks Per User"
   ]
  },
  {
   "cell_type": "code",
   "execution_count": 28,
   "metadata": {},
   "outputs": [
    {
     "data": {
      "text/plain": [
       "91.0"
      ]
     },
     "execution_count": 28,
     "metadata": {},
     "output_type": "execute_result"
    }
   ],
   "source": [
    "round(f/u, 1)"
   ]
  },
  {
   "cell_type": "markdown",
   "metadata": {
    "collapsed": true
   },
   "source": [
    "### Number of Ways Per Track"
   ]
  },
  {
   "cell_type": "code",
   "execution_count": 29,
   "metadata": {
    "collapsed": true
   },
   "outputs": [],
   "source": [
    "epf = ways.groupby('track_id').size().tolist()"
   ]
  },
  {
   "cell_type": "code",
   "execution_count": 30,
   "metadata": {},
   "outputs": [
    {
     "data": {
      "image/png": "[encoded data removed]",
      "text/plain": [
       "<matplotlib.figure.Figure at 0x111fbf28>"
      ]
     },
     "metadata": {},
     "output_type": "display_data"
    }
   ],
   "source": [
    "plot_distribution(l=epf, xlabel='Number of Ways', ylabel='Number of Tracks', title='Ways Per Track', type='hist', binning=False, scaling=False)\n",
    "#plt.savefig('WaysPerTrack.pdf')"
   ]
  },
  {
   "cell_type": "markdown",
   "metadata": {},
   "source": [
    "### Duration of Ways"
   ]
  },
  {
   "cell_type": "code",
   "execution_count": null,
   "metadata": {
    "collapsed": true
   },
   "outputs": [],
   "source": []
  },
  {
   "cell_type": "code",
   "execution_count": null,
   "metadata": {
    "collapsed": true
   },
   "outputs": [],
   "source": []
  },
  {
   "cell_type": "markdown",
   "metadata": {},
   "source": [
    "### Duration of Tracks"
   ]
  },
  {
   "cell_type": "code",
   "execution_count": null,
   "metadata": {
    "collapsed": true
   },
   "outputs": [],
   "source": []
  },
  {
   "cell_type": "code",
   "execution_count": null,
   "metadata": {
    "collapsed": true
   },
   "outputs": [],
   "source": []
  },
  {
   "cell_type": "markdown",
   "metadata": {},
   "source": [
    "### Duration of Rests"
   ]
  },
  {
   "cell_type": "code",
   "execution_count": null,
   "metadata": {
    "collapsed": true
   },
   "outputs": [],
   "source": []
  },
  {
   "cell_type": "code",
   "execution_count": null,
   "metadata": {
    "collapsed": true
   },
   "outputs": [],
   "source": []
  },
  {
   "cell_type": "markdown",
   "metadata": {
    "collapsed": true
   },
   "source": [
    "## Data Description (Resting Points)\n",
    "### Load Data"
   ]
  },
  {
   "cell_type": "code",
   "execution_count": 31,
   "metadata": {
    "collapsed": true
   },
   "outputs": [],
   "source": [
    "points = pd.read_csv('../data/particles_resting_2018_v2.txt', delimiter = ';')"
   ]
  },
  {
   "cell_type": "code",
   "execution_count": 32,
   "metadata": {},
   "outputs": [
    {
     "data": {
      "text/html": [
       "<div>\n",
       "<style>\n",
       "    .dataframe thead tr:only-child th {\n",
       "        text-align: right;\n",
       "    }\n",
       "\n",
       "    .dataframe thead th {\n",
       "        text-align: left;\n",
       "    }\n",
       "\n",
       "    .dataframe tbody tr th {\n",
       "        vertical-align: top;\n",
       "    }\n",
       "</style>\n",
       "<table border=\"1\" class=\"dataframe\">\n",
       "  <thead>\n",
       "    <tr style=\"text-align: right;\">\n",
       "      <th></th>\n",
       "      <th>id</th>\n",
       "      <th>type</th>\n",
       "      <th>p1_x</th>\n",
       "      <th>p1_y</th>\n",
       "      <th>p2_x</th>\n",
       "      <th>p2_y</th>\n",
       "      <th>time_begin</th>\n",
       "      <th>time_end</th>\n",
       "      <th>user_id</th>\n",
       "      <th>mp_id_p</th>\n",
       "      <th>mp_id_n</th>\n",
       "      <th>location</th>\n",
       "      <th>name</th>\n",
       "      <th>level</th>\n",
       "    </tr>\n",
       "  </thead>\n",
       "  <tbody>\n",
       "    <tr>\n",
       "      <th>0</th>\n",
       "      <td>50296639</td>\n",
       "      <td>small</td>\n",
       "      <td>12.975220</td>\n",
       "      <td>50.986162</td>\n",
       "      <td>12.977208</td>\n",
       "      <td>50.986273</td>\n",
       "      <td>2015-10-09 13:57:43</td>\n",
       "      <td>2015-10-09 13:59:30</td>\n",
       "      <td>2</td>\n",
       "      <td>632049</td>\n",
       "      <td>632050</td>\n",
       "      <td>373</td>\n",
       "      <td>Stadt Mittweida</td>\n",
       "      <td>Gemeinde</td>\n",
       "    </tr>\n",
       "    <tr>\n",
       "      <th>1</th>\n",
       "      <td>50296641</td>\n",
       "      <td>small</td>\n",
       "      <td>12.978933</td>\n",
       "      <td>50.982947</td>\n",
       "      <td>12.978970</td>\n",
       "      <td>50.982907</td>\n",
       "      <td>2015-10-12 14:40:46</td>\n",
       "      <td>2015-10-12 14:43:34</td>\n",
       "      <td>2</td>\n",
       "      <td>632051</td>\n",
       "      <td>632052</td>\n",
       "      <td>373</td>\n",
       "      <td>Stadt Mittweida</td>\n",
       "      <td>Gemeinde</td>\n",
       "    </tr>\n",
       "    <tr>\n",
       "      <th>2</th>\n",
       "      <td>50296643</td>\n",
       "      <td>small</td>\n",
       "      <td>13.116551</td>\n",
       "      <td>51.120702</td>\n",
       "      <td>13.118111</td>\n",
       "      <td>51.120523</td>\n",
       "      <td>2015-10-22 18:30:41</td>\n",
       "      <td>2015-10-22 18:31:12</td>\n",
       "      <td>2</td>\n",
       "      <td>632053</td>\n",
       "      <td>632054</td>\n",
       "      <td>396</td>\n",
       "      <td>Stadt Döbeln</td>\n",
       "      <td>Gemeinde</td>\n",
       "    </tr>\n",
       "    <tr>\n",
       "      <th>3</th>\n",
       "      <td>50296645</td>\n",
       "      <td>small</td>\n",
       "      <td>13.131141</td>\n",
       "      <td>51.114338</td>\n",
       "      <td>13.118115</td>\n",
       "      <td>51.122708</td>\n",
       "      <td>2015-10-22 20:55:40</td>\n",
       "      <td>2015-10-22 21:01:20</td>\n",
       "      <td>2</td>\n",
       "      <td>632055</td>\n",
       "      <td>632056</td>\n",
       "      <td>396</td>\n",
       "      <td>Stadt Döbeln</td>\n",
       "      <td>Gemeinde</td>\n",
       "    </tr>\n",
       "    <tr>\n",
       "      <th>4</th>\n",
       "      <td>50296649</td>\n",
       "      <td>small</td>\n",
       "      <td>12.971544</td>\n",
       "      <td>50.985375</td>\n",
       "      <td>12.972673</td>\n",
       "      <td>50.985403</td>\n",
       "      <td>2015-11-02 13:29:47</td>\n",
       "      <td>2015-11-02 13:36:13</td>\n",
       "      <td>2</td>\n",
       "      <td>632059</td>\n",
       "      <td>632060</td>\n",
       "      <td>373</td>\n",
       "      <td>Stadt Mittweida</td>\n",
       "      <td>Gemeinde</td>\n",
       "    </tr>\n",
       "  </tbody>\n",
       "</table>\n",
       "</div>"
      ],
      "text/plain": [
       "         id   type       p1_x       p1_y       p2_x       p2_y  \\\n",
       "0  50296639  small  12.975220  50.986162  12.977208  50.986273   \n",
       "1  50296641  small  12.978933  50.982947  12.978970  50.982907   \n",
       "2  50296643  small  13.116551  51.120702  13.118111  51.120523   \n",
       "3  50296645  small  13.131141  51.114338  13.118115  51.122708   \n",
       "4  50296649  small  12.971544  50.985375  12.972673  50.985403   \n",
       "\n",
       "            time_begin             time_end  user_id  mp_id_p  mp_id_n  \\\n",
       "0  2015-10-09 13:57:43  2015-10-09 13:59:30        2   632049   632050   \n",
       "1  2015-10-12 14:40:46  2015-10-12 14:43:34        2   632051   632052   \n",
       "2  2015-10-22 18:30:41  2015-10-22 18:31:12        2   632053   632054   \n",
       "3  2015-10-22 20:55:40  2015-10-22 21:01:20        2   632055   632056   \n",
       "4  2015-11-02 13:29:47  2015-11-02 13:36:13        2   632059   632060   \n",
       "\n",
       "   location             name     level  \n",
       "0       373  Stadt Mittweida  Gemeinde  \n",
       "1       373  Stadt Mittweida  Gemeinde  \n",
       "2       396     Stadt Döbeln  Gemeinde  \n",
       "3       396     Stadt Döbeln  Gemeinde  \n",
       "4       373  Stadt Mittweida  Gemeinde  "
      ]
     },
     "execution_count": 32,
     "metadata": {},
     "output_type": "execute_result"
    }
   ],
   "source": [
    "points.head()"
   ]
  },
  {
   "cell_type": "markdown",
   "metadata": {},
   "source": [
    "### Communities"
   ]
  },
  {
   "cell_type": "code",
   "execution_count": 33,
   "metadata": {},
   "outputs": [
    {
     "data": {
      "text/plain": [
       "name\n",
       "Stadt Leipzig      21467\n",
       "Stadt Mittweida    13627\n",
       "Stadt Chemnitz     10962\n",
       "Lichtenau            461\n",
       "Altmittweida         389\n",
       "dtype: int64"
      ]
     },
     "execution_count": 33,
     "metadata": {},
     "output_type": "execute_result"
    }
   ],
   "source": [
    "community = points.groupby('name').size().sort_values(ascending=False)\n",
    "community.head()"
   ]
  },
  {
   "cell_type": "markdown",
   "metadata": {},
   "source": [
    "### Match of Two Coordinates Given Coordinate Resolution\n",
    "Resting points are always pairs of locations. For example, while waiting for a tram connection, people may walk along the station; at home, people may move (their cell phone) from living room to kitchen. The first point in a pair (p1) is the location where the previous track terminated, the second (p2) is the location where the next track originates. The precision of GPS coordinates is given <a href='https://wiki.openstreetmap.org/wiki/DE:Genauigkeit_von_Koordinaten'>here</a>.\n",
    "\n",
    "How many pairs match, are identical, at which coordinate resolution?"
   ]
  },
  {
   "cell_type": "code",
   "execution_count": 34,
   "metadata": {
    "collapsed": true
   },
   "outputs": [],
   "source": [
    "points['p1_x'] = points['p1_x'].astype('str')\n",
    "points['p1_y'] = points['p1_y'].astype('str')\n",
    "points['p2_x'] = points['p2_x'].astype('str')\n",
    "points['p2_y'] = points['p2_y'].astype('str')"
   ]
  },
  {
   "cell_type": "code",
   "execution_count": 35,
   "metadata": {
    "collapsed": true
   },
   "outputs": [],
   "source": [
    "points_small = points[points['type'] == 'small']\n",
    "points_large = points[points['type'] == 'large']"
   ]
  },
  {
   "cell_type": "code",
   "execution_count": 36,
   "metadata": {
    "collapsed": true
   },
   "outputs": [],
   "source": [
    "matches = []\n",
    "for i in range(0, 9):\n",
    "    matches.append(sum((points['p1_x'].str[:i+3] == points['p2_x'].str[:i+3]) & (points['p1_y'].str[:i+3] == points['p2_y'].str[:i+3])))\n",
    "matches_small = []\n",
    "for i in range(0, 9):\n",
    "    matches_small.append(sum((points_small['p1_x'].str[:i+3] == points_small['p2_x'].str[:i+3]) & (points_small['p1_y'].str[:i+3] == points_small['p2_y'].str[:i+3])))\n",
    "matches_large = []\n",
    "for i in range(0, 9):\n",
    "    matches_large.append(sum((points_large['p1_x'].str[:i+3] == points_large['p2_x'].str[:i+3]) & (points_large['p1_y'].str[:i+3] == points_large['p2_y'].str[:i+3])))"
   ]
  },
  {
   "cell_type": "code",
   "execution_count": 37,
   "metadata": {},
   "outputs": [
    {
     "data": {
      "image/png": "[encoded data removed]",
      "text/plain": [
       "<matplotlib.figure.Figure at 0x11686630>"
      ]
     },
     "metadata": {},
     "output_type": "display_data"
    }
   ],
   "source": [
    "fig = plt.figure(figsize=(7, 6))\n",
    "ax = fig.add_subplot(111)\n",
    "ax.plot(range(0, 9), matches, marker='o', markersize=12, color=color_full[0], ls='', alpha=0.5, label='All Rests')\n",
    "ax.plot(range(0, 9), matches_small, marker='o', markersize=12, color=color_full[1], ls='', alpha=0.5, label='Small Rests')\n",
    "ax.plot(range(0, 9), matches_large, marker='o', markersize=12, color=color_full[2], ls='', alpha=0.5, label='Large Rests')\n",
    "ax.annotate('1.11m', xy=(5+0.25, matches[5]), va='center', fontsize=18)\n",
    "ax.annotate('11.1m', xy=(4+0.25, matches[4]), va='center', fontsize=18)\n",
    "ax.annotate('111m', xy=(3+0.25, matches[3]), va='center', fontsize=18)\n",
    "ax.annotate('1,111m', xy=(2+0.25, matches[2]), va='center', fontsize=18)\n",
    "ax.xaxis.set_ticks_position('both')\n",
    "ax.yaxis.set_ticks_position('both')\n",
    "ax.set_yscale('log')\n",
    "ax.set_title('Matches At Given Resolution', fontsize=24)\n",
    "ax.set_xlabel('Decimals of Coordinates', fontsize=24)\n",
    "ax.set_ylabel('Number of Pair Matches', fontsize=24)\n",
    "ax.xaxis.set_major_locator(MaxNLocator(integer=True))\n",
    "#ax.set_yticklabels(['{:,.2%}'.format(x) for x in ax.get_yticks()])\n",
    "ax.tick_params(axis=\"x\", which='major', direction=\"in\", width=2, size=4*2, labelsize=24, pad=7)\n",
    "ax.tick_params(axis=\"y\", which='major', direction=\"in\", width=2, size=4*2, labelsize=24)\n",
    "ax.tick_params(axis=\"y\", which='minor', direction=\"in\", width=2, size=2*2, labelsize=24)\n",
    "ax.spines['left'].set_linewidth(2)\n",
    "ax.spines['right'].set_linewidth(2)\n",
    "ax.spines['bottom'].set_linewidth(2)\n",
    "ax.spines['top'].set_linewidth(2)\n",
    "ax.legend(fontsize=18)\n",
    "plt.subplots_adjust(left=0.35, right=0.95, bottom=0.15, top=0.85)\n",
    "#plt.savefig('MatchesAtGivenResolution.pdf')"
   ]
  },
  {
   "cell_type": "markdown",
   "metadata": {},
   "source": [
    "### Missing Data"
   ]
  },
  {
   "cell_type": "code",
   "execution_count": 38,
   "metadata": {},
   "outputs": [
    {
     "data": {
      "text/plain": [
       "269"
      ]
     },
     "execution_count": 38,
     "metadata": {},
     "output_type": "execute_result"
    }
   ],
   "source": [
    "sum(ways['prev_rp'] == 'None')"
   ]
  },
  {
   "cell_type": "code",
   "execution_count": 39,
   "metadata": {},
   "outputs": [
    {
     "data": {
      "text/plain": [
       "261"
      ]
     },
     "execution_count": 39,
     "metadata": {},
     "output_type": "execute_result"
    }
   ],
   "source": [
    "sum(ways['next_rp'] == 'None')"
   ]
  },
  {
   "cell_type": "markdown",
   "metadata": {
    "collapsed": true
   },
   "source": [
    "## Creation of Network Data\n",
    "The most simple network is the one that uses the coarse <font face='Courier'>start_location</font> and <font face='Courier'>end_location</font> given in the <font face='Courier'>ways</font> table:"
   ]
  },
  {
   "cell_type": "code",
   "execution_count": 40,
   "metadata": {
    "collapsed": true
   },
   "outputs": [],
   "source": [
    "ways_locations = ways[['time_begin', 'time_end', 'start_location', 'end_location', 'type', 'speed']]\n",
    "ways_locations.rename(columns={'start_location':'location_begin', 'end_location':'location_end'}, inplace=True)"
   ]
  },
  {
   "cell_type": "code",
   "execution_count": 41,
   "metadata": {},
   "outputs": [
    {
     "data": {
      "text/html": [
       "<div>\n",
       "<style>\n",
       "    .dataframe thead tr:only-child th {\n",
       "        text-align: right;\n",
       "    }\n",
       "\n",
       "    .dataframe thead th {\n",
       "        text-align: left;\n",
       "    }\n",
       "\n",
       "    .dataframe tbody tr th {\n",
       "        vertical-align: top;\n",
       "    }\n",
       "</style>\n",
       "<table border=\"1\" class=\"dataframe\">\n",
       "  <thead>\n",
       "    <tr style=\"text-align: right;\">\n",
       "      <th></th>\n",
       "      <th>time_begin</th>\n",
       "      <th>time_end</th>\n",
       "      <th>location_begin</th>\n",
       "      <th>location_end</th>\n",
       "      <th>type</th>\n",
       "      <th>speed</th>\n",
       "    </tr>\n",
       "  </thead>\n",
       "  <tbody>\n",
       "    <tr>\n",
       "      <th>0</th>\n",
       "      <td>2015-11-04 10:12:28</td>\n",
       "      <td>2015-11-04 11:06:35</td>\n",
       "      <td>Stadt Mittweida</td>\n",
       "      <td>Stadt Mittweida</td>\n",
       "      <td>foot</td>\n",
       "      <td>0.64</td>\n",
       "    </tr>\n",
       "    <tr>\n",
       "      <th>1</th>\n",
       "      <td>2015-11-04 11:06:35</td>\n",
       "      <td>2015-11-04 11:06:43</td>\n",
       "      <td>Stadt Mittweida</td>\n",
       "      <td>Stadt Mittweida</td>\n",
       "      <td>car</td>\n",
       "      <td>785.12</td>\n",
       "    </tr>\n",
       "    <tr>\n",
       "      <th>2</th>\n",
       "      <td>2015-11-04 12:12:17</td>\n",
       "      <td>2015-11-04 12:16:05</td>\n",
       "      <td>Stadt Mittweida</td>\n",
       "      <td>Stadt Mittweida</td>\n",
       "      <td>foot</td>\n",
       "      <td>5.66</td>\n",
       "    </tr>\n",
       "    <tr>\n",
       "      <th>3</th>\n",
       "      <td>2015-11-04 12:56:46</td>\n",
       "      <td>2015-11-04 12:57:59</td>\n",
       "      <td>Stadt Mittweida</td>\n",
       "      <td>Stadt Mittweida</td>\n",
       "      <td>foot</td>\n",
       "      <td>2.59</td>\n",
       "    </tr>\n",
       "    <tr>\n",
       "      <th>4</th>\n",
       "      <td>2015-11-04 12:57:59</td>\n",
       "      <td>2015-11-04 13:11:34</td>\n",
       "      <td>Stadt Mittweida</td>\n",
       "      <td>Stadt Mittweida</td>\n",
       "      <td>foot</td>\n",
       "      <td>1.95</td>\n",
       "    </tr>\n",
       "  </tbody>\n",
       "</table>\n",
       "</div>"
      ],
      "text/plain": [
       "            time_begin             time_end   location_begin     location_end  \\\n",
       "0  2015-11-04 10:12:28  2015-11-04 11:06:35  Stadt Mittweida  Stadt Mittweida   \n",
       "1  2015-11-04 11:06:35  2015-11-04 11:06:43  Stadt Mittweida  Stadt Mittweida   \n",
       "2  2015-11-04 12:12:17  2015-11-04 12:16:05  Stadt Mittweida  Stadt Mittweida   \n",
       "3  2015-11-04 12:56:46  2015-11-04 12:57:59  Stadt Mittweida  Stadt Mittweida   \n",
       "4  2015-11-04 12:57:59  2015-11-04 13:11:34  Stadt Mittweida  Stadt Mittweida   \n",
       "\n",
       "   type   speed  \n",
       "0  foot    0.64  \n",
       "1   car  785.12  \n",
       "2  foot    5.66  \n",
       "3  foot    2.59  \n",
       "4  foot    1.95  "
      ]
     },
     "execution_count": 41,
     "metadata": {},
     "output_type": "execute_result"
    }
   ],
   "source": [
    "ways_locations.head()"
   ]
  },
  {
   "cell_type": "code",
   "execution_count": 42,
   "metadata": {
    "collapsed": true
   },
   "outputs": [],
   "source": [
    "ways_locations.to_csv('../data/ways_locations.txt', sep='\\t', index=False)"
   ]
  },
  {
   "cell_type": "markdown",
   "metadata": {},
   "source": [
    "Higher resolution is only obtained using GPS coordinates. First, we remove the lines with missing data and merge theways and points tables:"
   ]
  },
  {
   "cell_type": "code",
   "execution_count": 43,
   "metadata": {
    "collapsed": true
   },
   "outputs": [],
   "source": [
    "ways = ways[(ways['prev_rp'] != 'None') & (ways['next_rp'] != 'None')]\n",
    "ways['prev_rp'] = ways['prev_rp'].astype(int)\n",
    "ways['next_rp'] = ways['next_rp'].astype(int)"
   ]
  },
  {
   "cell_type": "code",
   "execution_count": 44,
   "metadata": {},
   "outputs": [],
   "source": [
    "ways_coordinates = pd.merge(left=ways, right=points[['id', 'p2_x', 'p2_y']], left_on='prev_rp', right_on='id')\n",
    "ways_coordinates = pd.merge(left=ways_coordinates, right=points[['id', 'p1_x', 'p1_y']], left_on='next_rp', right_on='id')\n",
    "ways_coordinates = ways_coordinates[['time_begin', 'time_end', 'p2_x', 'p2_y', 'p1_x', 'p1_y', 'type', 'speed']]\n",
    "ways_coordinates.rename(columns={'p2_x':'coordinate_begin_x', 'p2_y':'coordinate_begin_y', 'p1_x':'coordinate_end_x', 'p1_y':'coordinate_end_y'}, inplace=True)\n",
    "ways_coordinates = ways_coordinates[(ways_coordinates['coordinate_begin_x'] != 'nan') & (ways_coordinates['coordinate_begin_y'] != 'nan') & (ways_coordinates['coordinate_end_x'] != 'nan') & (ways_coordinates['coordinate_end_y'] != 'nan')]"
   ]
  },
  {
   "cell_type": "code",
   "execution_count": 45,
   "metadata": {},
   "outputs": [
    {
     "data": {
      "text/html": [
       "<div>\n",
       "<style>\n",
       "    .dataframe thead tr:only-child th {\n",
       "        text-align: right;\n",
       "    }\n",
       "\n",
       "    .dataframe thead th {\n",
       "        text-align: left;\n",
       "    }\n",
       "\n",
       "    .dataframe tbody tr th {\n",
       "        vertical-align: top;\n",
       "    }\n",
       "</style>\n",
       "<table border=\"1\" class=\"dataframe\">\n",
       "  <thead>\n",
       "    <tr style=\"text-align: right;\">\n",
       "      <th></th>\n",
       "      <th>time_begin</th>\n",
       "      <th>time_end</th>\n",
       "      <th>coordinate_begin_x</th>\n",
       "      <th>coordinate_begin_y</th>\n",
       "      <th>coordinate_end_x</th>\n",
       "      <th>coordinate_end_y</th>\n",
       "      <th>type</th>\n",
       "      <th>speed</th>\n",
       "    </tr>\n",
       "  </thead>\n",
       "  <tbody>\n",
       "    <tr>\n",
       "      <th>0</th>\n",
       "      <td>2015-11-04 10:12:28</td>\n",
       "      <td>2015-11-04 11:06:35</td>\n",
       "      <td>12.9735145569</td>\n",
       "      <td>50.9858551025</td>\n",
       "      <td>12.973315239</td>\n",
       "      <td>50.9876289368</td>\n",
       "      <td>foot</td>\n",
       "      <td>0.64</td>\n",
       "    </tr>\n",
       "    <tr>\n",
       "      <th>1</th>\n",
       "      <td>2015-11-04 11:06:35</td>\n",
       "      <td>2015-11-04 11:06:43</td>\n",
       "      <td>12.9731607437</td>\n",
       "      <td>50.9865379333</td>\n",
       "      <td>12.9733314514</td>\n",
       "      <td>50.9862861633</td>\n",
       "      <td>car</td>\n",
       "      <td>785.12</td>\n",
       "    </tr>\n",
       "    <tr>\n",
       "      <th>2</th>\n",
       "      <td>2015-11-04 12:56:46</td>\n",
       "      <td>2015-11-04 12:57:59</td>\n",
       "      <td>12.9704751</td>\n",
       "      <td>50.9869392</td>\n",
       "      <td>12.9712393</td>\n",
       "      <td>50.9868844</td>\n",
       "      <td>foot</td>\n",
       "      <td>2.59</td>\n",
       "    </tr>\n",
       "    <tr>\n",
       "      <th>3</th>\n",
       "      <td>2015-11-04 12:57:59</td>\n",
       "      <td>2015-11-04 13:11:34</td>\n",
       "      <td>12.9727888</td>\n",
       "      <td>50.9864179</td>\n",
       "      <td>12.9706122</td>\n",
       "      <td>50.9855912</td>\n",
       "      <td>foot</td>\n",
       "      <td>1.95</td>\n",
       "    </tr>\n",
       "    <tr>\n",
       "      <th>4</th>\n",
       "      <td>2015-11-04 13:11:34</td>\n",
       "      <td>2015-11-04 13:14:24</td>\n",
       "      <td>12.9704209</td>\n",
       "      <td>50.9863855</td>\n",
       "      <td>12.97028893</td>\n",
       "      <td>50.98622314</td>\n",
       "      <td>car</td>\n",
       "      <td>22.64</td>\n",
       "    </tr>\n",
       "  </tbody>\n",
       "</table>\n",
       "</div>"
      ],
      "text/plain": [
       "            time_begin             time_end coordinate_begin_x  \\\n",
       "0  2015-11-04 10:12:28  2015-11-04 11:06:35      12.9735145569   \n",
       "1  2015-11-04 11:06:35  2015-11-04 11:06:43      12.9731607437   \n",
       "2  2015-11-04 12:56:46  2015-11-04 12:57:59         12.9704751   \n",
       "3  2015-11-04 12:57:59  2015-11-04 13:11:34         12.9727888   \n",
       "4  2015-11-04 13:11:34  2015-11-04 13:14:24         12.9704209   \n",
       "\n",
       "  coordinate_begin_y coordinate_end_x coordinate_end_y  type   speed  \n",
       "0      50.9858551025     12.973315239    50.9876289368  foot    0.64  \n",
       "1      50.9865379333    12.9733314514    50.9862861633   car  785.12  \n",
       "2         50.9869392       12.9712393       50.9868844  foot    2.59  \n",
       "3         50.9864179       12.9706122       50.9855912  foot    1.95  \n",
       "4         50.9863855      12.97028893      50.98622314   car   22.64  "
      ]
     },
     "execution_count": 45,
     "metadata": {},
     "output_type": "execute_result"
    }
   ],
   "source": [
    "ways_coordinates.head()"
   ]
  },
  {
   "cell_type": "markdown",
   "metadata": {},
   "source": [
    "Then, we create nodelists and edgelists for variable resolutions of GPS coordinates:"
   ]
  },
  {
   "cell_type": "code",
   "execution_count": 46,
   "metadata": {
    "collapsed": true
   },
   "outputs": [],
   "source": [
    "nodes = []\n",
    "for i in range(0, 9):\n",
    "    # create nodelists\n",
    "    ways_coordinates_dec = ways_coordinates.copy()\n",
    "    ways_coordinates_dec['coordinate_begin_x'] = ways_coordinates_dec['coordinate_begin_x'].str[:i+3]\n",
    "    ways_coordinates_dec['coordinate_begin_y'] = ways_coordinates_dec['coordinate_begin_y'].str[:i+3]\n",
    "    ways_coordinates_dec['coordinate_end_x'] = ways_coordinates_dec['coordinate_end_x'].str[:i+3]\n",
    "    ways_coordinates_dec['coordinate_end_y'] = ways_coordinates_dec['coordinate_end_y'].str[:i+3]\n",
    "    ways_coordinates_begin_dec = ways_coordinates_dec[['coordinate_begin_x', 'coordinate_begin_y']].rename(columns={'coordinate_begin_x':'coordinate_x', 'coordinate_begin_y':'coordinate_y'})\n",
    "    ways_coordinates_end_dec = ways_coordinates_dec[['coordinate_end_x', 'coordinate_end_y']].rename(columns={'coordinate_end_x':'coordinate_x', 'coordinate_end_y':'coordinate_y'})\n",
    "    points_coordinates_dec = pd.concat([ways_coordinates_begin_dec, ways_coordinates_end_dec]).drop_duplicates().reset_index(drop=True)\n",
    "    points_coordinates_dec['id'] = points_coordinates_dec.index\n",
    "    points_coordinates_dec = points_coordinates_dec[['id', 'coordinate_x', 'coordinate_y']]\n",
    "    points_coordinates_dec.to_csv('../data/points_coordinates_dec' + str(i) + '.txt', sep='\\t', index=False)\n",
    "    # store number of distinct nodes\n",
    "    nodes.append(len(points_coordinates_dec))\n",
    "    # create edgelists\n",
    "    ways_coordinates_dec = pd.merge(left=ways_coordinates_dec, right=points_coordinates_dec, left_on=['coordinate_begin_x', 'coordinate_begin_y'], right_on=['coordinate_x', 'coordinate_y'])\n",
    "    ways_coordinates_dec = ways_coordinates_dec.rename(columns={'id':'coordinate_id_begin'})\n",
    "    ways_coordinates_dec = pd.merge(left=ways_coordinates_dec, right=points_coordinates_dec, left_on=['coordinate_end_x', 'coordinate_end_y'], right_on=['coordinate_x', 'coordinate_y'])\n",
    "    ways_coordinates_dec = ways_coordinates_dec.rename(columns={'id':'coordinate_id_end'})\n",
    "    ways_coordinates_dec = ways_coordinates_dec[['time_begin', 'time_end', 'coordinate_id_begin', 'coordinate_id_end', 'type', 'speed']]\n",
    "    ways_coordinates_dec.to_csv('../data/ways_coordinates_dec' + str(i) + '.txt', sep='\\t', index=False)"
   ]
  },
  {
   "cell_type": "code",
   "execution_count": 47,
   "metadata": {},
   "outputs": [
    {
     "data": {
      "image/png": "[encoded data removed]",
      "text/plain": [
       "<matplotlib.figure.Figure at 0x163b39b0>"
      ]
     },
     "metadata": {},
     "output_type": "display_data"
    }
   ],
   "source": [
    "fig = plt.figure(figsize=(7, 6))\n",
    "ax = fig.add_subplot(111)\n",
    "ax.plot(range(0, 9), nodes, marker='o', markersize=12, color=color_full[0], ls='')\n",
    "ax.annotate('11.1m', xy=(4+0.25, nodes[4]), va='center', fontsize=18)\n",
    "ax.annotate('111m', xy=(3+0.25, nodes[3]), va='center', fontsize=18)\n",
    "ax.annotate('1,111m', xy=(2+0.25, nodes[2]), va='center', fontsize=18)\n",
    "ax.annotate('11,112m', xy=(1+0.25, nodes[1]), va='center', fontsize=18)\n",
    "ax.xaxis.set_ticks_position('both')\n",
    "ax.yaxis.set_ticks_position('both')\n",
    "ax.set_yscale('log')\n",
    "ax.set_title('Coordinates At Given Resolution', fontsize=24)\n",
    "ax.set_xlabel('Decimals of Coordinates', fontsize=24)\n",
    "ax.set_ylabel('Number of Distinct Coordinates', fontsize=24)\n",
    "ax.xaxis.set_major_locator(MaxNLocator(integer=True))\n",
    "#ax.set_yticklabels(['{:,.2%}'.format(x) for x in ax.get_yticks()])\n",
    "ax.tick_params(axis=\"x\", which='major', direction=\"in\", width=2, size=4*2, labelsize=24, pad=7)\n",
    "ax.tick_params(axis=\"y\", which='major', direction=\"in\", width=2, size=4*2, labelsize=24)\n",
    "ax.tick_params(axis=\"y\", which='minor', direction=\"in\", width=2, size=2*2, labelsize=24)\n",
    "ax.spines['left'].set_linewidth(2)\n",
    "ax.spines['right'].set_linewidth(2)\n",
    "ax.spines['bottom'].set_linewidth(2)\n",
    "ax.spines['top'].set_linewidth(2)\n",
    "ax.legend(fontsize=18)\n",
    "plt.subplots_adjust(left=0.35, right=0.95, bottom=0.15, top=0.85)\n",
    "#plt.savefig('CoordinatesAtGivenResolution.pdf')"
   ]
  },
  {
   "cell_type": "code",
   "execution_count": null,
   "metadata": {
    "collapsed": true
   },
   "outputs": [],
   "source": []
  }
 ],
 "metadata": {
  "kernelspec": {
   "display_name": "Python 3",
   "language": "python",
   "name": "python3"
  },
  "language_info": {
   "codemirror_mode": {
    "name": "ipython",
    "version": 3
   },
   "file_extension": ".py",
   "mimetype": "text/x-python",
   "name": "python",
   "nbconvert_exporter": "python",
   "pygments_lexer": "ipython3",
   "version": "3.6.3"
  }
 },
 "nbformat": 4,
 "nbformat_minor": 2
}
