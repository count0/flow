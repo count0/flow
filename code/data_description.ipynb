{
 "cells": [
  {
   "cell_type": "markdown",
   "metadata": {},
   "source": [
    "# FLOW: Data Description (Chemnitz)\n",
    "## Imports and Settings"
   ]
  },
  {
   "cell_type": "code",
   "execution_count": 1,
   "metadata": {
    "collapsed": true
   },
   "outputs": [],
   "source": [
    "%matplotlib inline"
   ]
  },
  {
   "cell_type": "code",
   "execution_count": 2,
   "metadata": {
    "collapsed": true
   },
   "outputs": [],
   "source": [
    "import warnings\n",
    "import pandas as pd\n",
    "import matplotlib.pyplot as plt\n",
    "import collections\n",
    "import numpy as np\n",
    "import datetime\n",
    "import matplotlib.dates as mdates"
   ]
  },
  {
   "cell_type": "code",
   "execution_count": 3,
   "metadata": {
    "collapsed": true
   },
   "outputs": [],
   "source": [
    "warnings.filterwarnings('ignore')"
   ]
  },
  {
   "cell_type": "code",
   "execution_count": 4,
   "metadata": {
    "collapsed": true
   },
   "outputs": [],
   "source": [
    "color_full = ['#000000', '#e41a1c', '#377eb8', '#4daf4a', '#984ea3', '#ff7f00', '#ffff33', '#a65628', '#f781bf', '#999999']\n",
    "color_pale = ['#7f7f7f', '#f18c8d', '#9bbedb', '#a6d7a4', '#cba6d1', '#ffbf7f', '#ffff99', '#d2aa93', '#fbc0df', '#cccccc']"
   ]
  },
  {
   "cell_type": "markdown",
   "metadata": {},
   "source": [
    "## Helper Functions\n",
    "Get probability density function (PDF) given list:"
   ]
  },
  {
   "cell_type": "code",
   "execution_count": 5,
   "metadata": {
    "collapsed": true
   },
   "outputs": [],
   "source": [
    "def pdf(l):\n",
    "    counter = collections.Counter(l)\n",
    "    a = np.column_stack((list(counter.keys()), list(counter.values())))\n",
    "    a = np.column_stack((a, a[:, 1]/sum(a[:, 1])))\n",
    "    a = a[a[: ,0].argsort()]\n",
    "    return a"
   ]
  },
  {
   "cell_type": "markdown",
   "metadata": {},
   "source": [
    "Get binned probability density function given unbinned probability densities:"
   ]
  },
  {
   "cell_type": "code",
   "execution_count": 6,
   "metadata": {
    "collapsed": true
   },
   "outputs": [],
   "source": [
    "def pdf_bin(a, bins):\n",
    "    decades = np.ceil(np.log10(max(a[:, 0])-min(a[:, 0])))\n",
    "    bin_min = np.log10(min(a[:, 0]))\n",
    "    a_bin = np.full((bins, 3), np.nan)\n",
    "    for i in range(0, bins):\n",
    "        b = a[(a[:, 0] >= round(10**(bin_min+i*decades/bins))) & (a[:, 0] < round(10**(bin_min+(i+1)*decades/bins)))]\n",
    "        if len(b)>0:\n",
    "            a_bin[i, 0] = np.mean(b[:, 0])\n",
    "            a_bin[i, 1] = sum(b[:, 1])\n",
    "            a_bin[i, 2] = round(10**(bin_min+(i+1)*decades/bins))-round(10**(bin_min+i*decades/bins))\n",
    "    a_bin = a_bin[~np.isnan(a_bin[:, 0])]\n",
    "    a_bin = np.column_stack((a_bin, (a_bin[:, 1]/sum(a[:, 1]))/a_bin[:, 2])) # divide by bin width\n",
    "    return a_bin"
   ]
  },
  {
   "cell_type": "markdown",
   "metadata": {},
   "source": [
    "Plot distribution:"
   ]
  },
  {
   "cell_type": "code",
   "execution_count": 7,
   "metadata": {
    "collapsed": true
   },
   "outputs": [],
   "source": [
    "def plot_distribution(l, xlabel, ylabel, title, type, binning=True, scaling=True):\n",
    "    a = pdf(l)\n",
    "    a_bin = pdf_bin(a, bins=20)\n",
    "    fig = plt.figure(figsize=(6, 6))\n",
    "    ax = fig.add_subplot(111)\n",
    "    \n",
    "    if type == 'hist':\n",
    "        if binning == False:\n",
    "            ax.plot(a[:, 0], a[:, 1], marker='o', markersize=12, ls='', color=color_full[0], label='')\n",
    "        else:\n",
    "            ax.plot(a_bin[:, 0], a_bin[:, 1], marker='o', markersize=12, color=color_full[0], ls='', label='')\n",
    "    if type == 'prob':\n",
    "        if binning == False:\n",
    "            ax.plot(a[:, 0], a[:, 2], marker='o', markersize=12, ls='', color=color_full[0], label='')\n",
    "        else:\n",
    "            ax.plot(a_bin[:, 0], a_bin[:, 3], marker='o', markersize=12, color=color_full[0], ls='', label='')\n",
    "        \n",
    "    ax.xaxis.set_ticks_position('both')\n",
    "    ax.yaxis.set_ticks_position('both')\n",
    "    if scaling == True:\n",
    "        ax.set_xscale('log')\n",
    "    ax.set_yscale('log')\n",
    "    ax.set_title(title, fontsize=24)\n",
    "    ax.set_xlabel(xlabel, fontsize=24)\n",
    "    ax.set_ylabel(ylabel, fontsize=24)\n",
    "    ax.tick_params(axis=\"x\", which='major', direction=\"in\", width=2, size=4*2, labelsize=24, pad=7)\n",
    "    ax.tick_params(axis=\"x\", which='minor', direction=\"in\", width=2, size=2*2, labelsize=24, pad=7)\n",
    "    ax.tick_params(axis=\"y\", which='major', direction=\"in\", width=2, size=4*2, labelsize=24)\n",
    "    ax.tick_params(axis=\"y\", which='minor', direction=\"in\", width=2, size=2*2, labelsize=24)\n",
    "    ax.spines['left'].set_linewidth(2)\n",
    "    ax.spines['right'].set_linewidth(2)\n",
    "    ax.spines['bottom'].set_linewidth(2)\n",
    "    ax.spines['top'].set_linewidth(2)\n",
    "    ax.legend(fontsize=18)\n",
    "    plt.subplots_adjust(left=0.25, right=0.95, bottom=0.15, top=0.85)"
   ]
  },
  {
   "cell_type": "markdown",
   "metadata": {},
   "source": [
    "## Data Model\n",
    "Data generated by users $u$ is modeled as a network with resting points $v$ as nodes and ways $e$ as directed edges. Chains of ways amount to tracks $f$. Tracks originate and terminate at resting points where a user rests for at least 30 minutes (\"große Ruhe\"). Resting points where users rest for less than 30 minutes (\"kleine Ruhe\") connect ways into tracks."
   ]
  },
  {
   "cell_type": "markdown",
   "metadata": {},
   "source": [
    "## Data Description\n",
    "### Load Data"
   ]
  },
  {
   "cell_type": "code",
   "execution_count": 8,
   "metadata": {
    "collapsed": true
   },
   "outputs": [],
   "source": [
    "ways_summary = pd.read_csv('../data/ways_summary.csv', delimiter = ';')"
   ]
  },
  {
   "cell_type": "code",
   "execution_count": 9,
   "metadata": {},
   "outputs": [
    {
     "data": {
      "text/html": [
       "<div>\n",
       "<style>\n",
       "    .dataframe thead tr:only-child th {\n",
       "        text-align: right;\n",
       "    }\n",
       "\n",
       "    .dataframe thead th {\n",
       "        text-align: left;\n",
       "    }\n",
       "\n",
       "    .dataframe tbody tr th {\n",
       "        vertical-align: top;\n",
       "    }\n",
       "</style>\n",
       "<table border=\"1\" class=\"dataframe\">\n",
       "  <thead>\n",
       "    <tr style=\"text-align: right;\">\n",
       "      <th></th>\n",
       "      <th>id</th>\n",
       "      <th>track_id</th>\n",
       "      <th>user_id</th>\n",
       "      <th>stat_group</th>\n",
       "      <th>series</th>\n",
       "      <th>time_begin</th>\n",
       "      <th>time_end</th>\n",
       "      <th>type</th>\n",
       "      <th>start_location</th>\n",
       "      <th>end_location</th>\n",
       "      <th>distance</th>\n",
       "      <th>distance_sum</th>\n",
       "      <th>speed</th>\n",
       "      <th>speed_avg</th>\n",
       "      <th>prev_rp</th>\n",
       "      <th>next_rp</th>\n",
       "      <th>path</th>\n",
       "    </tr>\n",
       "  </thead>\n",
       "  <tbody>\n",
       "    <tr>\n",
       "      <th>0</th>\n",
       "      <td>1</td>\n",
       "      <td>3</td>\n",
       "      <td>2</td>\n",
       "      <td>1</td>\n",
       "      <td>1</td>\n",
       "      <td>2015-11-04 10:12:28</td>\n",
       "      <td>2015-11-04 11:06:35</td>\n",
       "      <td>foot</td>\n",
       "      <td>Stadt Mittweida</td>\n",
       "      <td>Stadt Mittweida</td>\n",
       "      <td>572.94</td>\n",
       "      <td>1145.87</td>\n",
       "      <td>0.64</td>\n",
       "      <td>0.64</td>\n",
       "      <td>50296654</td>\n",
       "      <td>50296655</td>\n",
       "      <td>LINESTRING(12.97399 50.986117,12.97399 50.9861...</td>\n",
       "    </tr>\n",
       "    <tr>\n",
       "      <th>1</th>\n",
       "      <td>2</td>\n",
       "      <td>3</td>\n",
       "      <td>2</td>\n",
       "      <td>1</td>\n",
       "      <td>1</td>\n",
       "      <td>2015-11-04 11:06:35</td>\n",
       "      <td>2015-11-04 11:06:43</td>\n",
       "      <td>car</td>\n",
       "      <td>Stadt Mittweida</td>\n",
       "      <td>Stadt Mittweida</td>\n",
       "      <td>218.09</td>\n",
       "      <td>1582.05</td>\n",
       "      <td>785.12</td>\n",
       "      <td>392.88</td>\n",
       "      <td>50296655</td>\n",
       "      <td>50296656</td>\n",
       "      <td>LINESTRING(12.973538 50.987706,12.972125 50.98...</td>\n",
       "    </tr>\n",
       "    <tr>\n",
       "      <th>2</th>\n",
       "      <td>1</td>\n",
       "      <td>15</td>\n",
       "      <td>3</td>\n",
       "      <td>1</td>\n",
       "      <td>1</td>\n",
       "      <td>2015-11-04 12:12:17</td>\n",
       "      <td>2015-11-04 12:16:05</td>\n",
       "      <td>foot</td>\n",
       "      <td>Stadt Mittweida</td>\n",
       "      <td>Stadt Mittweida</td>\n",
       "      <td>358.66</td>\n",
       "      <td>717.31</td>\n",
       "      <td>5.66</td>\n",
       "      <td>5.66</td>\n",
       "      <td>None</td>\n",
       "      <td>50296701</td>\n",
       "      <td>LINESTRING(12.972569 50.986345,12.972569 50.98...</td>\n",
       "    </tr>\n",
       "    <tr>\n",
       "      <th>3</th>\n",
       "      <td>1</td>\n",
       "      <td>20</td>\n",
       "      <td>3</td>\n",
       "      <td>1</td>\n",
       "      <td>1</td>\n",
       "      <td>2015-11-04 12:56:46</td>\n",
       "      <td>2015-11-04 12:57:59</td>\n",
       "      <td>foot</td>\n",
       "      <td>Stadt Mittweida</td>\n",
       "      <td>Stadt Mittweida</td>\n",
       "      <td>52.57</td>\n",
       "      <td>105.14</td>\n",
       "      <td>2.59</td>\n",
       "      <td>2.59</td>\n",
       "      <td>50296701</td>\n",
       "      <td>50296702</td>\n",
       "      <td>LINESTRING(12.970304 50.986862,12.970304 50.98...</td>\n",
       "    </tr>\n",
       "    <tr>\n",
       "      <th>4</th>\n",
       "      <td>2</td>\n",
       "      <td>20</td>\n",
       "      <td>3</td>\n",
       "      <td>1</td>\n",
       "      <td>1</td>\n",
       "      <td>2015-11-04 12:57:59</td>\n",
       "      <td>2015-11-04 13:11:34</td>\n",
       "      <td>foot</td>\n",
       "      <td>Stadt Mittweida</td>\n",
       "      <td>Stadt Mittweida</td>\n",
       "      <td>411.81</td>\n",
       "      <td>928.77</td>\n",
       "      <td>1.95</td>\n",
       "      <td>2.27</td>\n",
       "      <td>50296702</td>\n",
       "      <td>50296703</td>\n",
       "      <td>LINESTRING(12.970304 50.986862,12.970304 50.98...</td>\n",
       "    </tr>\n",
       "  </tbody>\n",
       "</table>\n",
       "</div>"
      ],
      "text/plain": [
       "   id  track_id  user_id  stat_group  series           time_begin  \\\n",
       "0   1         3        2           1       1  2015-11-04 10:12:28   \n",
       "1   2         3        2           1       1  2015-11-04 11:06:35   \n",
       "2   1        15        3           1       1  2015-11-04 12:12:17   \n",
       "3   1        20        3           1       1  2015-11-04 12:56:46   \n",
       "4   2        20        3           1       1  2015-11-04 12:57:59   \n",
       "\n",
       "              time_end  type   start_location     end_location  distance  \\\n",
       "0  2015-11-04 11:06:35  foot  Stadt Mittweida  Stadt Mittweida    572.94   \n",
       "1  2015-11-04 11:06:43   car  Stadt Mittweida  Stadt Mittweida    218.09   \n",
       "2  2015-11-04 12:16:05  foot  Stadt Mittweida  Stadt Mittweida    358.66   \n",
       "3  2015-11-04 12:57:59  foot  Stadt Mittweida  Stadt Mittweida     52.57   \n",
       "4  2015-11-04 13:11:34  foot  Stadt Mittweida  Stadt Mittweida    411.81   \n",
       "\n",
       "   distance_sum   speed  speed_avg   prev_rp   next_rp  \\\n",
       "0       1145.87    0.64       0.64  50296654  50296655   \n",
       "1       1582.05  785.12     392.88  50296655  50296656   \n",
       "2        717.31    5.66       5.66      None  50296701   \n",
       "3        105.14    2.59       2.59  50296701  50296702   \n",
       "4        928.77    1.95       2.27  50296702  50296703   \n",
       "\n",
       "                                                path  \n",
       "0  LINESTRING(12.97399 50.986117,12.97399 50.9861...  \n",
       "1  LINESTRING(12.973538 50.987706,12.972125 50.98...  \n",
       "2  LINESTRING(12.972569 50.986345,12.972569 50.98...  \n",
       "3  LINESTRING(12.970304 50.986862,12.970304 50.98...  \n",
       "4  LINESTRING(12.970304 50.986862,12.970304 50.98...  "
      ]
     },
     "execution_count": 9,
     "metadata": {},
     "output_type": "execute_result"
    }
   ],
   "source": [
    "ways_summary.head()"
   ]
  },
  {
   "cell_type": "markdown",
   "metadata": {},
   "source": [
    "### Start Locations"
   ]
  },
  {
   "cell_type": "code",
   "execution_count": 10,
   "metadata": {},
   "outputs": [
    {
     "data": {
      "text/plain": [
       "start_location\n",
       "Stadt Mittweida    14077\n",
       "Stadt Chemnitz      9341\n",
       "Stadt Leipzig        655\n",
       "Lichtenau            256\n",
       "Stadt Burgstädt      194\n",
       "dtype: int64"
      ]
     },
     "execution_count": 10,
     "metadata": {},
     "output_type": "execute_result"
    }
   ],
   "source": [
    "start_location = ways_summary.groupby('start_location').size().sort_values(ascending=False)\n",
    "start_location.head()"
   ]
  },
  {
   "cell_type": "markdown",
   "metadata": {},
   "source": [
    "### End Locations"
   ]
  },
  {
   "cell_type": "code",
   "execution_count": 11,
   "metadata": {},
   "outputs": [
    {
     "data": {
      "text/plain": [
       "end_location\n",
       "Stadt Mittweida    13754\n",
       "Stadt Chemnitz      9737\n",
       "Stadt Leipzig        592\n",
       "Lichtenau            227\n",
       "Stadt Burgstädt      139\n",
       "dtype: int64"
      ]
     },
     "execution_count": 11,
     "metadata": {},
     "output_type": "execute_result"
    }
   ],
   "source": [
    "end_location = ways_summary.groupby('end_location').size().sort_values(ascending=False)\n",
    "end_location.head()"
   ]
  },
  {
   "cell_type": "markdown",
   "metadata": {},
   "source": [
    "### Modes of Transport"
   ]
  },
  {
   "cell_type": "code",
   "execution_count": 12,
   "metadata": {},
   "outputs": [
    {
     "data": {
      "text/plain": [
       "type\n",
       "car      14225\n",
       "bus       3794\n",
       "foot      3764\n",
       "tram      2475\n",
       "train     1494\n",
       "dtype: int64"
      ]
     },
     "execution_count": 12,
     "metadata": {},
     "output_type": "execute_result"
    }
   ],
   "source": [
    "mode = ways_summary.groupby('type').size().sort_values(ascending=False)\n",
    "mode"
   ]
  },
  {
   "cell_type": "markdown",
   "metadata": {},
   "source": [
    "### Days"
   ]
  },
  {
   "cell_type": "code",
   "execution_count": 13,
   "metadata": {
    "collapsed": true
   },
   "outputs": [],
   "source": [
    "ways_summary['time_begin_day'] = ways_summary['time_begin'].str[:11]\n",
    "time_begin_day = ways_summary.groupby('time_begin_day').size().sort_index()\n",
    "time_begin_day = pd.concat([pd.Series(time_begin_day.index.tolist()), pd.Series(time_begin_day.tolist())], axis=1)\n",
    "time_begin_day.columns = ['time_begin_day', 'frequency']\n",
    "time_begin_day['time_begin_day'] = pd.to_datetime(time_begin_day['time_begin_day'])"
   ]
  },
  {
   "cell_type": "code",
   "execution_count": 14,
   "metadata": {
    "collapsed": true
   },
   "outputs": [],
   "source": [
    "days_delta = (max(time_begin_day['time_begin_day'])-min(time_begin_day['time_begin_day'])).days\n",
    "days_list = [min(time_begin_day['time_begin_day'])+datetime.timedelta(days=x) for x in range(0, days_delta+1)]\n",
    "days_list = pd.DataFrame(days_list, columns=['time_begin_day'])"
   ]
  },
  {
   "cell_type": "code",
   "execution_count": 15,
   "metadata": {
    "collapsed": true
   },
   "outputs": [],
   "source": [
    "days = pd.merge(left=time_begin_day, right=days_list, how='right', on='time_begin_day').sort_values('time_begin_day').reset_index(drop=True)"
   ]
  },
  {
   "cell_type": "code",
   "execution_count": 16,
   "metadata": {},
   "outputs": [
    {
     "data": {
      "image/png": "[encoded data removed]",
      "text/plain": [
       "<matplotlib.figure.Figure at 0xaf69eb8>"
      ]
     },
     "metadata": {},
     "output_type": "display_data"
    }
   ],
   "source": [
    "# https://stackoverflow.com/questions/17452179/not-write-out-all-dates-on-an-axis-matplotlib\n",
    "fig = plt.figure(figsize=(12, 6))\n",
    "plt.gca().xaxis.set_major_formatter(mdates.DateFormatter('%d-%m-%Y'))\n",
    "plt.gca().xaxis.set_major_locator(mdates.DayLocator(interval=70))\n",
    "days_dt = [x.to_pydatetime() for x in list(days['time_begin_day'])]\n",
    "plt.bar(days_dt, days['frequency'], align='center', color=color_full[0])\n",
    "plt.gcf().autofmt_xdate()\n",
    "ax = fig.add_subplot(111)\n",
    "ax.xaxis.set_ticks_position('both')\n",
    "ax.yaxis.set_ticks_position('both')\n",
    "ax.set_title('Ways Per Day', fontsize=24)\n",
    "ax.set_xlabel('Departure Day', fontsize=24)\n",
    "ax.set_ylabel('Number of Ways', fontsize=24)\n",
    "ax.tick_params(axis=\"x\", which='major', direction=\"in\", width=2, size=4*2, labelsize=24, pad=7)\n",
    "ax.tick_params(axis=\"x\", which='minor', direction=\"in\", width=2, size=2*2, labelsize=24, pad=7)\n",
    "ax.tick_params(axis=\"y\", which='major', direction=\"in\", width=2, size=4*2, labelsize=24)\n",
    "ax.tick_params(axis=\"y\", which='minor', direction=\"in\", width=2, size=2*2, labelsize=24)\n",
    "ax.spines['left'].set_linewidth(2)\n",
    "ax.spines['right'].set_linewidth(2)\n",
    "ax.spines['bottom'].set_linewidth(2)\n",
    "ax.spines['top'].set_linewidth(2)\n",
    "ax.legend(fontsize=18)\n",
    "plt.subplots_adjust(left=0.1, right=0.95, bottom=0.35, top=0.85)\n",
    "#plt.savefig('WaysPerDay.pdf')"
   ]
  },
  {
   "cell_type": "markdown",
   "metadata": {},
   "source": [
    "### Hours"
   ]
  },
  {
   "cell_type": "code",
   "execution_count": 17,
   "metadata": {
    "collapsed": true
   },
   "outputs": [],
   "source": [
    "ways_summary['time_begin_hour'] = ways_summary['time_begin'].str[11:13]\n",
    "time_begin_hour = ways_summary.groupby('time_begin_hour').size().sort_index()\n",
    "time_begin_hour = pd.concat([pd.Series(time_begin_hour.index.tolist()), pd.Series(time_begin_hour.tolist())], axis=1)\n",
    "time_begin_hour.columns = ['time_begin_hour', 'frequency']"
   ]
  },
  {
   "cell_type": "code",
   "execution_count": 18,
   "metadata": {},
   "outputs": [
    {
     "data": {
      "image/png": "[encoded data removed]",
      "text/plain": [
       "<matplotlib.figure.Figure at 0x115445c0>"
      ]
     },
     "metadata": {},
     "output_type": "display_data"
    }
   ],
   "source": [
    "# https://stackoverflow.com/questions/17452179/not-write-out-all-dates-on-an-axis-matplotlib\n",
    "fig = plt.figure(figsize=(6, 6))\n",
    "hours = [x for x in range(0, 24)]\n",
    "plt.bar(hours, time_begin_hour['frequency'], align='center', color=color_full[0])\n",
    "ax = fig.add_subplot(111)\n",
    "ax.xaxis.set_ticks_position('both')\n",
    "ax.yaxis.set_ticks_position('both')\n",
    "ax.set_title('Ways Per Hour', fontsize=24)\n",
    "ax.set_xlabel('Departure Hour', fontsize=24)\n",
    "ax.set_ylabel('Number of Ways', fontsize=24)\n",
    "ax.tick_params(axis=\"x\", which='major', direction=\"in\", width=2, size=4*2, labelsize=24, pad=7)\n",
    "ax.tick_params(axis=\"x\", which='minor', direction=\"in\", width=2, size=2*2, labelsize=24, pad=7)\n",
    "ax.tick_params(axis=\"y\", which='major', direction=\"in\", width=2, size=4*2, labelsize=24)\n",
    "ax.tick_params(axis=\"y\", which='minor', direction=\"in\", width=2, size=2*2, labelsize=24)\n",
    "ax.spines['left'].set_linewidth(2)\n",
    "ax.spines['right'].set_linewidth(2)\n",
    "ax.spines['bottom'].set_linewidth(2)\n",
    "ax.spines['top'].set_linewidth(2)\n",
    "ax.legend(fontsize=18)\n",
    "plt.subplots_adjust(left=0.25, right=0.95, bottom=0.15, top=0.85)\n",
    "#plt.savefig('WaysPerHour.pdf')"
   ]
  },
  {
   "cell_type": "markdown",
   "metadata": {},
   "source": [
    "### Number of Ways"
   ]
  },
  {
   "cell_type": "code",
   "execution_count": 19,
   "metadata": {},
   "outputs": [
    {
     "data": {
      "text/plain": [
       "25752"
      ]
     },
     "execution_count": 19,
     "metadata": {},
     "output_type": "execute_result"
    }
   ],
   "source": [
    "e = len(ways_summary)\n",
    "e"
   ]
  },
  {
   "cell_type": "markdown",
   "metadata": {},
   "source": [
    "### Number of Tracks"
   ]
  },
  {
   "cell_type": "code",
   "execution_count": 20,
   "metadata": {},
   "outputs": [
    {
     "data": {
      "text/plain": [
       "14925"
      ]
     },
     "execution_count": 20,
     "metadata": {},
     "output_type": "execute_result"
    }
   ],
   "source": [
    "f = len(set(ways_summary['track_id']))\n",
    "f"
   ]
  },
  {
   "cell_type": "markdown",
   "metadata": {},
   "source": [
    "### Number of Users"
   ]
  },
  {
   "cell_type": "code",
   "execution_count": 21,
   "metadata": {},
   "outputs": [
    {
     "data": {
      "text/plain": [
       "164"
      ]
     },
     "execution_count": 21,
     "metadata": {},
     "output_type": "execute_result"
    }
   ],
   "source": [
    "u = len(set(ways_summary['user_id']))\n",
    "u"
   ]
  },
  {
   "cell_type": "markdown",
   "metadata": {},
   "source": [
    "### Number of Ways Per User"
   ]
  },
  {
   "cell_type": "code",
   "execution_count": 22,
   "metadata": {
    "collapsed": true
   },
   "outputs": [],
   "source": [
    "epu = ways_summary.groupby('user_id').size().tolist()"
   ]
  },
  {
   "cell_type": "code",
   "execution_count": 23,
   "metadata": {},
   "outputs": [
    {
     "data": {
      "image/png": "[encoded data removed]",
      "text/plain": [
       "<matplotlib.figure.Figure at 0x11530f28>"
      ]
     },
     "metadata": {},
     "output_type": "display_data"
    }
   ],
   "source": [
    "plot_distribution(l=epu, xlabel='Number of Ways', ylabel='Number of Users', title='Ways Per User', type='hist')\n",
    "#plt.savefig('WaysPerUser.pdf')"
   ]
  },
  {
   "cell_type": "markdown",
   "metadata": {},
   "source": [
    "### Average Number of Ways Per User"
   ]
  },
  {
   "cell_type": "code",
   "execution_count": 24,
   "metadata": {},
   "outputs": [
    {
     "data": {
      "text/plain": [
       "157.0"
      ]
     },
     "execution_count": 24,
     "metadata": {},
     "output_type": "execute_result"
    }
   ],
   "source": [
    "round(e/u, 1)"
   ]
  },
  {
   "cell_type": "markdown",
   "metadata": {},
   "source": [
    "### Number of Tracks Per User"
   ]
  },
  {
   "cell_type": "code",
   "execution_count": 25,
   "metadata": {
    "collapsed": true
   },
   "outputs": [],
   "source": [
    "ways_summary_ways = ways_summary[['track_id', 'user_id']].drop_duplicates()"
   ]
  },
  {
   "cell_type": "code",
   "execution_count": 26,
   "metadata": {
    "collapsed": true
   },
   "outputs": [],
   "source": [
    "fpu = ways_summary_ways.groupby('user_id').size().tolist()"
   ]
  },
  {
   "cell_type": "code",
   "execution_count": 27,
   "metadata": {},
   "outputs": [
    {
     "data": {
      "image/png": "[encoded data removed]",
      "text/plain": [
       "<matplotlib.figure.Figure at 0xb8e6550>"
      ]
     },
     "metadata": {},
     "output_type": "display_data"
    }
   ],
   "source": [
    "plot_distribution(l=fpu, xlabel='Number of Tracks', ylabel='Number of Users', title='Tracks Per User', type='hist')\n",
    "#plt.savefig('TracksPerUser.pdf')"
   ]
  },
  {
   "cell_type": "markdown",
   "metadata": {},
   "source": [
    "### Average Number of Tracks Per User"
   ]
  },
  {
   "cell_type": "code",
   "execution_count": 28,
   "metadata": {},
   "outputs": [
    {
     "data": {
      "text/plain": [
       "91.0"
      ]
     },
     "execution_count": 28,
     "metadata": {},
     "output_type": "execute_result"
    }
   ],
   "source": [
    "round(f/u, 1)"
   ]
  },
  {
   "cell_type": "markdown",
   "metadata": {
    "collapsed": true
   },
   "source": [
    "### Number of Ways Per Track"
   ]
  },
  {
   "cell_type": "code",
   "execution_count": 29,
   "metadata": {
    "collapsed": true
   },
   "outputs": [],
   "source": [
    "epf = ways_summary.groupby('track_id').size().tolist()"
   ]
  },
  {
   "cell_type": "code",
   "execution_count": 30,
   "metadata": {},
   "outputs": [
    {
     "data": {
      "image/png": "[encoded data removed]",
      "text/plain": [
       "<matplotlib.figure.Figure at 0x11186cf8>"
      ]
     },
     "metadata": {},
     "output_type": "display_data"
    }
   ],
   "source": [
    "plot_distribution(l=epf, xlabel='Number of Ways', ylabel='Number of Tracks', title='Ways Per Track', type='hist', binning=False, scaling=False)\n",
    "#plt.savefig('WaysPerTrack.pdf')"
   ]
  },
  {
   "cell_type": "code",
   "execution_count": null,
   "metadata": {
    "collapsed": true
   },
   "outputs": [],
   "source": []
  }
 ],
 "metadata": {
  "kernelspec": {
   "display_name": "Python 3",
   "language": "python",
   "name": "python3"
  },
  "language_info": {
   "codemirror_mode": {
    "name": "ipython",
    "version": 3
   },
   "file_extension": ".py",
   "mimetype": "text/x-python",
   "name": "python",
   "nbconvert_exporter": "python",
   "pygments_lexer": "ipython3",
   "version": "3.6.3"
  }
 },
 "nbformat": 4,
 "nbformat_minor": 2
}
